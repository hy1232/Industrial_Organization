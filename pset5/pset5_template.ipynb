{
 "cells": [
  {
   "cell_type": "markdown",
   "metadata": {},
   "source": [
    "Shawn (HyungJoon) Yoon "
   ]
  },
  {
   "cell_type": "markdown",
   "metadata": {},
   "source": [
    "0A: Yea, I followed the honor code on this problem set.  "
   ]
  },
  {
   "cell_type": "markdown",
   "metadata": {},
   "source": [
    "0B: 10hrs "
   ]
  },
  {
   "cell_type": "code",
   "execution_count": 132,
   "metadata": {},
   "outputs": [],
   "source": [
    "import pandas as pd\n",
    "from linearmodels import OLS\n",
    "import numpy as np"
   ]
  },
  {
   "cell_type": "markdown",
   "metadata": {},
   "source": [
    "Before starting on this problem set, it may be useful to read through the following description\n",
    "of the formula language used by `linearmodels`: \n",
    "\n",
    "[https://patsy.readthedocs.io/en/v0.1.0/formulas.html#the-formula-language](https://patsy.readthedocs.io/en/v0.1.0/formulas.html#the-formula-language)"
   ]
  },
  {
   "cell_type": "code",
   "execution_count": 133,
   "metadata": {},
   "outputs": [
    {
     "data": {
      "text/html": [
       "<div>\n",
       "<style scoped>\n",
       "    .dataframe tbody tr th:only-of-type {\n",
       "        vertical-align: middle;\n",
       "    }\n",
       "\n",
       "    .dataframe tbody tr th {\n",
       "        vertical-align: top;\n",
       "    }\n",
       "\n",
       "    .dataframe thead th {\n",
       "        text-align: right;\n",
       "    }\n",
       "</style>\n",
       "<table border=\"1\" class=\"dataframe\">\n",
       "  <thead>\n",
       "    <tr style=\"text-align: right;\">\n",
       "      <th></th>\n",
       "      <th>Purchase</th>\n",
       "      <th>Price</th>\n",
       "      <th>NotNearCompetingStore</th>\n",
       "      <th>WealthyZipCode</th>\n",
       "      <th>Weekday</th>\n",
       "      <th>ExistingCustomer</th>\n",
       "    </tr>\n",
       "  </thead>\n",
       "  <tbody>\n",
       "    <tr>\n",
       "      <th>1</th>\n",
       "      <td>1</td>\n",
       "      <td>13</td>\n",
       "      <td>0</td>\n",
       "      <td>0</td>\n",
       "      <td>1</td>\n",
       "      <td>0</td>\n",
       "    </tr>\n",
       "    <tr>\n",
       "      <th>2</th>\n",
       "      <td>1</td>\n",
       "      <td>13</td>\n",
       "      <td>1</td>\n",
       "      <td>0</td>\n",
       "      <td>1</td>\n",
       "      <td>1</td>\n",
       "    </tr>\n",
       "    <tr>\n",
       "      <th>3</th>\n",
       "      <td>1</td>\n",
       "      <td>13</td>\n",
       "      <td>0</td>\n",
       "      <td>0</td>\n",
       "      <td>1</td>\n",
       "      <td>0</td>\n",
       "    </tr>\n",
       "    <tr>\n",
       "      <th>4</th>\n",
       "      <td>1</td>\n",
       "      <td>13</td>\n",
       "      <td>0</td>\n",
       "      <td>0</td>\n",
       "      <td>1</td>\n",
       "      <td>0</td>\n",
       "    </tr>\n",
       "    <tr>\n",
       "      <th>5</th>\n",
       "      <td>0</td>\n",
       "      <td>15</td>\n",
       "      <td>0</td>\n",
       "      <td>0</td>\n",
       "      <td>1</td>\n",
       "      <td>0</td>\n",
       "    </tr>\n",
       "  </tbody>\n",
       "</table>\n",
       "</div>"
      ],
      "text/plain": [
       "   Purchase  Price  NotNearCompetingStore  WealthyZipCode  Weekday  \\\n",
       "1         1     13                      0               0        1   \n",
       "2         1     13                      1               0        1   \n",
       "3         1     13                      0               0        1   \n",
       "4         1     13                      0               0        1   \n",
       "5         0     15                      0               0        1   \n",
       "\n",
       "   ExistingCustomer  \n",
       "1                 0  \n",
       "2                 1  \n",
       "3                 0  \n",
       "4                 0  \n",
       "5                 0  "
      ]
     },
     "execution_count": 133,
     "metadata": {},
     "output_type": "execute_result"
    }
   ],
   "source": [
    "# Import data\n",
    "df_data = pd.read_csv(\"StaplesData.csv\", index_col=0)\n",
    "\n",
    "# Set parameters\n",
    "c = 10 # Marginal cost\n",
    "\n",
    "df_data.head()"
   ]
  },
  {
   "cell_type": "markdown",
   "metadata": {},
   "source": [
    "1A: \n",
    "\n",
    "$\\pi$ = Pr(Purchase) * ($P_i$ - c)\n",
    "\n",
    "$\\pi$ = ($\\beta_0$ + $\\beta_1$$X_i$ + $\\beta_2$$P_i$ + $\\beta_3$$X_i$$P_i$) * ($P_i$ - c)\n",
    "\n",
    "FOC\n",
    "\n",
    "d$\\pi$/d$p$ = $\\beta_0$ + $\\beta_1$$X_i$ + 2$\\beta_2$$P_i$ + 2$\\beta_3$$X_i$$P_i$ - $\\beta_2$c - $\\beta_3$$X_i$c = 0 \n",
    "\n",
    "Therefore, \n",
    "\n",
    "$P_i^*$ = ($\\beta_2$c + $\\beta_3$$X_i$c - $\\beta_0$ - $\\beta_1$$X_i$) / (2$\\beta_2$ + 2$\\beta_3$$X_i$)"
   ]
  },
  {
   "cell_type": "code",
   "execution_count": 134,
   "metadata": {},
   "outputs": [
    {
     "name": "stdout",
     "output_type": "stream",
     "text": [
      "regression formula Purchase ~ 1 + Price * (NotNearCompetingStore + WealthyZipCode + Weekday + ExistingCustomer) \n",
      "\n",
      "                            OLS Estimation Summary                            \n",
      "==============================================================================\n",
      "Dep. Variable:               Purchase   R-squared:                      0.3230\n",
      "Estimator:                        OLS   Adj. R-squared:                 0.3228\n",
      "No. Observations:               40000   F-statistic:                 6.511e+04\n",
      "Date:                Mon, Oct 07 2019   P-value (F-stat)                0.0000\n",
      "Time:                        11:15:20   Distribution:                  chi2(9)\n",
      "Cov. Estimator:                robust                                         \n",
      "                                                                              \n",
      "                                      Parameter Estimates                                      \n",
      "===============================================================================================\n",
      "                             Parameter  Std. Err.     T-stat    P-value    Lower CI    Upper CI\n",
      "-----------------------------------------------------------------------------------------------\n",
      "Intercept                       2.5703     0.0666     38.572     0.0000      2.4397      2.7010\n",
      "Price                          -0.1586     0.0047    -33.921     0.0000     -0.1677     -0.1494\n",
      "NotNearCompetingStore          -1.1598     0.0558    -20.802     0.0000     -1.2691     -1.0505\n",
      "WealthyZipCode                 -0.1545     0.0660    -2.3415     0.0192     -0.2838     -0.0252\n",
      "Weekday                         0.1239     0.0666     1.8604     0.0628     -0.0066      0.2545\n",
      "ExistingCustomer                0.1045     0.0704     1.4850     0.1375     -0.0334      0.2425\n",
      "Price:NotNearCompetingStore     0.0596     0.0039     15.369     0.0000      0.0520      0.0672\n",
      "Price:WealthyZipCode            0.0468     0.0048     9.7653     0.0000      0.0374      0.0563\n",
      "Price:Weekday                  -0.0051     0.0047    -1.0884     0.2764     -0.0143      0.0041\n",
      "Price:ExistingCustomer         -0.0018     0.0050    -0.3679     0.7129     -0.0116      0.0079\n",
      "===============================================================================================\n"
     ]
    }
   ],
   "source": [
    "# 1B \n",
    "covariates = ['NotNearCompetingStore', 'WealthyZipCode', 'Weekday', 'ExistingCustomer']\n",
    "\n",
    "regression_formula =  'Purchase ~ 1 + Price * ({0})'.format(' + '.join(covariates))\n",
    "print('regression formula', regression_formula, '\\n')\n",
    "\n",
    "model = OLS.from_formula(regression_formula, data=df_data)\n",
    "    # regression_formula,\n",
    "    # something else\n",
    "\n",
    "\n",
    "res = model.fit()\n",
    "\n",
    "print(res.summary)\n",
    "\n",
    "# # store the coefficients as vectors for use later.\n",
    "beta_0 = res.params.Intercept\n",
    "beta_1 = res.params[covariates]\n",
    "beta_2 = res.params.Price\n",
    "beta_3 = res.params[['Price:' + cov for cov in covariates]]"
   ]
  },
  {
   "cell_type": "markdown",
   "metadata": {},
   "source": [
    "#### Coefficient Estimates whose p-value < 10%\n",
    "\n",
    "$\\beta_0$ (intercept) = 2.5703\n",
    "\n",
    "$\\beta_1$ (NotNear) = -1.1598\n",
    "\n",
    "$\\beta_1$ (WealthyZipCode) = -0.1545\n",
    "\n",
    "$\\beta_1$ (Weekday) = 0.1239 \n",
    "\n",
    "$\\beta_2$ (price) = -0.1586\n",
    "\n",
    "$\\beta_3$ (interaction, Price:NotNearCompetingStore) = 0.0596\n",
    "\n",
    "$\\beta_3$ (interaction, Price:WealthyZipCode) = 0.0468"
   ]
  },
  {
   "cell_type": "code",
   "execution_count": 135,
   "metadata": {},
   "outputs": [
    {
     "name": "stdout",
     "output_type": "stream",
     "text": [
      "0.37556495351766905\n",
      "-0.15857552452319368\n",
      "-0.09902011502660046\n"
     ]
    }
   ],
   "source": [
    "# 1C\n",
    "# Not being near a competing store\n",
    "print( 1- (beta_2 + beta_3['Price:NotNearCompetingStore']) / beta_2 ) # reduces by X percent\n",
    "\n",
    "print(beta_2) # from X percentage points\n",
    "print(beta_2 + beta_3['Price:NotNearCompetingStore']) # to X percentage points"
   ]
  },
  {
   "cell_type": "markdown",
   "metadata": {},
   "source": [
    "$\\beta_2$ = -0.158 (steeper) (near from competing store)\n",
    "\n",
    "$\\beta_2 + \\beta_3$ = -0.099 (less steep) (further competing store)\n",
    "\n",
    "Steepness reduces by 37.55% from $\\beta_2$ to $\\beta_2 + \\beta_3$.\n",
    "\n"
   ]
  },
  {
   "cell_type": "code",
   "execution_count": 136,
   "metadata": {},
   "outputs": [
    {
     "data": {
      "text/plain": [
       "0.059555409496593215"
      ]
     },
     "execution_count": 136,
     "metadata": {},
     "output_type": "execute_result"
    }
   ],
   "source": [
    "beta_3['Price:NotNearCompetingStore']"
   ]
  },
  {
   "cell_type": "markdown",
   "metadata": {},
   "source": [
    "$\\beta_3$ (Price:NotNearCompetingStore) is +0.059. This means that if a customer is not near a competitor store, the interaction term (Price:NotNearCompetingStore) turns on, and 0.059 gets added to $\\beta_2$, making the slope less steeper. So the price responsiveness is smaller than those who are near a competitor store.   \n",
    "\n",
    "Conditional on other X variables, being not near competing store (further from competing store) reduces price responsiveness by 37.55% points per dollar of price increase.\n",
    "\n",
    "The signs and magnitudes are consistent with what I expected. $\\beta_3$ (Price:NotNearCompetingStore) is +0.059. So, if you add this to $\\beta_2$, -0.158, then ($\\beta_2$+$\\beta_3$) gets bigger. In other words, the slope becomes less steeper. If it is less steeper, then it means that the customer will respond less sensitively to the price change than those who are near the competitor store. "
   ]
  },
  {
   "cell_type": "code",
   "execution_count": 137,
   "metadata": {},
   "outputs": [
    {
     "name": "stdout",
     "output_type": "stream",
     "text": [
      "0.295430557098287\n",
      "-0.15857552452319368\n",
      "-0.11172746897115349\n"
     ]
    }
   ],
   "source": [
    "# Wealthy zip code\n",
    "print( 1- (beta_2 + beta_3['Price:WealthyZipCode']) / beta_2 ) # reduces by X percent\n",
    "\n",
    "print(beta_2) # from X percentage points\n",
    "print(beta_2 + beta_3['Price:WealthyZipCode']) # to X percentage points"
   ]
  },
  {
   "cell_type": "markdown",
   "metadata": {},
   "source": [
    "$\\beta_2$ = -0.158 (steeper) (poor zip code)\n",
    "\n",
    "$\\beta_2 + \\beta_3$ = -0.111 (less steep) (wealthy zip code)\n",
    "\n",
    "Steepness reduces by 29.54% from $\\beta_2$ to $\\beta_2 + \\beta_3$."
   ]
  },
  {
   "cell_type": "code",
   "execution_count": 138,
   "metadata": {},
   "outputs": [
    {
     "data": {
      "text/plain": [
       "0.04684805555204019"
      ]
     },
     "execution_count": 138,
     "metadata": {},
     "output_type": "execute_result"
    }
   ],
   "source": [
    "beta_3['Price:WealthyZipCode']"
   ]
  },
  {
   "cell_type": "markdown",
   "metadata": {},
   "source": [
    "$\\beta_3$ (Price:WealthyZipCode) is +0.046. This means that if a customer has a wealthy zipcode, the interaction term (Price:NotNearCompetingStore) turns on, and 0.046 gets added to $\\beta_2$, making the slope less steeper. So the price responsiveness is smaller than those who does not have wealthy zip code.   \n",
    "\n",
    "Conditional on other X variables, being being in a wealthy zip code reduces price responsiveness by 29.54% points per dollar of price increase.\n",
    "\n",
    "The signs and magnitudes are consistent with what I expected. $\\beta_3$ (Price:WealthyZipCode) is +0.046. So, if you add this to $\\beta_2$, -0.158, then ($\\beta_2$+$\\beta_3$) gets bigger. In other words, the slope becomes less steeper. If it is less steeper, then it means that the customer will respond less sensitively to the price change than those who are not in a wealthy zip code. "
   ]
  },
  {
   "cell_type": "code",
   "execution_count": 158,
   "metadata": {},
   "outputs": [],
   "source": [
    "#Purchase probability under original price (I am just doing this to check what the profit is if the firm just operated at the given price in the data)\n",
    "df_data['purchase_proba_original_price'] = beta_0 + np.dot(df_data[covariates], beta_1) + (beta_2 + np.dot(df_data[covariates], beta_3)) * df_data['Price']\n",
    "df_data['profit_under_original_price'] = (df_data['Price'] - c)*df_data['purchase_proba_original_price']"
   ]
  },
  {
   "cell_type": "code",
   "execution_count": 159,
   "metadata": {},
   "outputs": [
    {
     "data": {
      "text/plain": [
       "count    40000.000000\n",
       "mean        13.520190\n",
       "std          1.276742\n",
       "min         12.122566\n",
       "25%         13.104497\n",
       "50%         13.230974\n",
       "75%         13.455927\n",
       "max         17.598529\n",
       "Name: monopoly_price, dtype: float64"
      ]
     },
     "execution_count": 159,
     "metadata": {},
     "output_type": "execute_result"
    }
   ],
   "source": [
    "# 1D: Profit maximizing prices\n",
    "df_data['monopoly_price'] = c / 2 - (beta_0 + np.dot(df_data[covariates], beta_1)) / (\n",
    "    2 * (beta_2 + np.dot(df_data[covariates], beta_3)))\n",
    "df_data.monopoly_price.describe()"
   ]
  },
  {
   "cell_type": "code",
   "execution_count": 160,
   "metadata": {},
   "outputs": [
    {
     "name": "stdout",
     "output_type": "stream",
     "text": [
      "       purchase_proba        profit\n",
      "count    40000.000000  40000.000000\n",
      "mean         0.472592      1.766739\n",
      "std          0.142677      1.008556\n",
      "min          0.210177      0.446114\n",
      "25%          0.367183      1.528335\n",
      "50%          0.528805      1.708555\n",
      "75%          0.528805      1.976572\n",
      "max          0.728943      4.478494\n"
     ]
    }
   ],
   "source": [
    "# 1E: Expected profit per consumer\n",
    "\n",
    "#compute purchase proba\n",
    "df_data['purchase_proba'] = beta_0 + np.dot(df_data[covariates], beta_1) + (beta_2 + np.dot(df_data[covariates], beta_3)) * df_data['monopoly_price']\n",
    "\n",
    "# something\n",
    "\n",
    "#Insert the purchase probabilities and the prices into the profit function\n",
    "df_data['profit'] = df_data['purchase_proba'] * (df_data['monopoly_price'] - c)\n",
    "\n",
    "# something\n",
    "\n",
    "print(df_data[['purchase_proba', 'profit']].describe())"
   ]
  },
  {
   "cell_type": "markdown",
   "metadata": {},
   "source": [
    "#### 1F \n",
    "\n",
    "$\\pi$ = (P - c) * Pr(Purchase) \n",
    "\n",
    "$\\pi$ = (P - c) * ($\\alpha_0$ + $\\alpha_2$P)\n",
    "\n",
    "FOC \n",
    "\n",
    "d$\\pi$/dP = $\\alpha_0$ + 2$\\alpha_2$P - $\\alpha_2$c = 0\n",
    "\n",
    "## $p^u$ = c/2 - $\\alpha_0$/(2$\\alpha_2$)"
   ]
  },
  {
   "cell_type": "code",
   "execution_count": 161,
   "metadata": {},
   "outputs": [],
   "source": [
    "# 1G: Estimate average demand function\n",
    "\n",
    "model = OLS.from_formula('Purchase ~ 1 + Price', data=df_data) # something\n",
    "res = model.fit()\n",
    "\n",
    "# store the coefficients for use later.\n",
    "beta_0h = res.params.Intercept\n",
    "beta_2h = res.params.Price"
   ]
  },
  {
   "cell_type": "code",
   "execution_count": 162,
   "metadata": {},
   "outputs": [
    {
     "data": {
      "text/plain": [
       "2.298616586630814"
      ]
     },
     "execution_count": 162,
     "metadata": {},
     "output_type": "execute_result"
    }
   ],
   "source": [
    "beta_0h"
   ]
  },
  {
   "cell_type": "code",
   "execution_count": 163,
   "metadata": {},
   "outputs": [
    {
     "data": {
      "text/plain": [
       "-0.13612331503713904"
      ]
     },
     "execution_count": 163,
     "metadata": {},
     "output_type": "execute_result"
    }
   ],
   "source": [
    "beta_2h"
   ]
  },
  {
   "cell_type": "markdown",
   "metadata": {},
   "source": [
    "1H.  \n",
    "\n",
    "$\\alpha_2$ is -0.136. This means that when the firm increases the uniform price by one dollar, the probability of purchase decreases by 0.136."
   ]
  },
  {
   "cell_type": "code",
   "execution_count": 164,
   "metadata": {},
   "outputs": [
    {
     "name": "stdout",
     "output_type": "stream",
     "text": [
      "13.443140640542268\n"
     ]
    }
   ],
   "source": [
    "# 1I: Profit-maximizing uniform price \n",
    "uniform_monopoly_price = c / 2 - beta_0h / (2 * beta_2h)\n",
    "df_data['uniform_price'] = uniform_monopoly_price\n",
    "print(uniform_monopoly_price) # This just displays the price"
   ]
  },
  {
   "cell_type": "code",
   "execution_count": 165,
   "metadata": {},
   "outputs": [
    {
     "data": {
      "text/html": [
       "<div>\n",
       "<style scoped>\n",
       "    .dataframe tbody tr th:only-of-type {\n",
       "        vertical-align: middle;\n",
       "    }\n",
       "\n",
       "    .dataframe tbody tr th {\n",
       "        vertical-align: top;\n",
       "    }\n",
       "\n",
       "    .dataframe thead th {\n",
       "        text-align: right;\n",
       "    }\n",
       "</style>\n",
       "<table border=\"1\" class=\"dataframe\">\n",
       "  <thead>\n",
       "    <tr style=\"text-align: right;\">\n",
       "      <th></th>\n",
       "      <th>Purchase</th>\n",
       "      <th>Price</th>\n",
       "      <th>NotNearCompetingStore</th>\n",
       "      <th>WealthyZipCode</th>\n",
       "      <th>Weekday</th>\n",
       "      <th>ExistingCustomer</th>\n",
       "      <th>purchase_proba_original_price</th>\n",
       "      <th>profit_under_original_price</th>\n",
       "      <th>monopoly_price</th>\n",
       "      <th>purchase_proba</th>\n",
       "      <th>profit</th>\n",
       "      <th>uniform_price</th>\n",
       "      <th>purchase_proba_unif_price</th>\n",
       "      <th>profit_unif_price</th>\n",
       "    </tr>\n",
       "  </thead>\n",
       "  <tbody>\n",
       "    <tr>\n",
       "      <th>1</th>\n",
       "      <td>1</td>\n",
       "      <td>13</td>\n",
       "      <td>0</td>\n",
       "      <td>0</td>\n",
       "      <td>1</td>\n",
       "      <td>0</td>\n",
       "      <td>0.566608</td>\n",
       "      <td>1.699824</td>\n",
       "      <td>13.230974</td>\n",
       "      <td>0.528805</td>\n",
       "      <td>1.708555</td>\n",
       "      <td>13.443141</td>\n",
       "      <td>0.49408</td>\n",
       "      <td>1.701188</td>\n",
       "    </tr>\n",
       "    <tr>\n",
       "      <th>2</th>\n",
       "      <td>1</td>\n",
       "      <td>13</td>\n",
       "      <td>1</td>\n",
       "      <td>0</td>\n",
       "      <td>1</td>\n",
       "      <td>1</td>\n",
       "      <td>0.261816</td>\n",
       "      <td>0.785447</td>\n",
       "      <td>12.735689</td>\n",
       "      <td>0.289816</td>\n",
       "      <td>0.792848</td>\n",
       "      <td>13.443141</td>\n",
       "      <td>0.21487</td>\n",
       "      <td>0.739827</td>\n",
       "    </tr>\n",
       "    <tr>\n",
       "      <th>3</th>\n",
       "      <td>1</td>\n",
       "      <td>13</td>\n",
       "      <td>0</td>\n",
       "      <td>0</td>\n",
       "      <td>1</td>\n",
       "      <td>0</td>\n",
       "      <td>0.566608</td>\n",
       "      <td>1.699824</td>\n",
       "      <td>13.230974</td>\n",
       "      <td>0.528805</td>\n",
       "      <td>1.708555</td>\n",
       "      <td>13.443141</td>\n",
       "      <td>0.49408</td>\n",
       "      <td>1.701188</td>\n",
       "    </tr>\n",
       "    <tr>\n",
       "      <th>4</th>\n",
       "      <td>1</td>\n",
       "      <td>13</td>\n",
       "      <td>0</td>\n",
       "      <td>0</td>\n",
       "      <td>1</td>\n",
       "      <td>0</td>\n",
       "      <td>0.566608</td>\n",
       "      <td>1.699824</td>\n",
       "      <td>13.230974</td>\n",
       "      <td>0.528805</td>\n",
       "      <td>1.708555</td>\n",
       "      <td>13.443141</td>\n",
       "      <td>0.49408</td>\n",
       "      <td>1.701188</td>\n",
       "    </tr>\n",
       "    <tr>\n",
       "      <th>5</th>\n",
       "      <td>0</td>\n",
       "      <td>15</td>\n",
       "      <td>0</td>\n",
       "      <td>0</td>\n",
       "      <td>1</td>\n",
       "      <td>0</td>\n",
       "      <td>0.239273</td>\n",
       "      <td>1.196366</td>\n",
       "      <td>13.230974</td>\n",
       "      <td>0.528805</td>\n",
       "      <td>1.708555</td>\n",
       "      <td>13.443141</td>\n",
       "      <td>0.49408</td>\n",
       "      <td>1.701188</td>\n",
       "    </tr>\n",
       "  </tbody>\n",
       "</table>\n",
       "</div>"
      ],
      "text/plain": [
       "   Purchase  Price  NotNearCompetingStore  WealthyZipCode  Weekday  \\\n",
       "1         1     13                      0               0        1   \n",
       "2         1     13                      1               0        1   \n",
       "3         1     13                      0               0        1   \n",
       "4         1     13                      0               0        1   \n",
       "5         0     15                      0               0        1   \n",
       "\n",
       "   ExistingCustomer  purchase_proba_original_price  \\\n",
       "1                 0                       0.566608   \n",
       "2                 1                       0.261816   \n",
       "3                 0                       0.566608   \n",
       "4                 0                       0.566608   \n",
       "5                 0                       0.239273   \n",
       "\n",
       "   profit_under_original_price  monopoly_price  purchase_proba    profit  \\\n",
       "1                     1.699824       13.230974        0.528805  1.708555   \n",
       "2                     0.785447       12.735689        0.289816  0.792848   \n",
       "3                     1.699824       13.230974        0.528805  1.708555   \n",
       "4                     1.699824       13.230974        0.528805  1.708555   \n",
       "5                     1.196366       13.230974        0.528805  1.708555   \n",
       "\n",
       "   uniform_price  purchase_proba_unif_price  profit_unif_price  \n",
       "1      13.443141                    0.49408           1.701188  \n",
       "2      13.443141                    0.21487           0.739827  \n",
       "3      13.443141                    0.49408           1.701188  \n",
       "4      13.443141                    0.49408           1.701188  \n",
       "5      13.443141                    0.49408           1.701188  "
      ]
     },
     "execution_count": 165,
     "metadata": {},
     "output_type": "execute_result"
    }
   ],
   "source": [
    "df_data.head()"
   ]
  },
  {
   "cell_type": "code",
   "execution_count": 166,
   "metadata": {},
   "outputs": [
    {
     "name": "stdout",
     "output_type": "stream",
     "text": [
      "       purchase_proba_unif_price  profit_unif_price\n",
      "count               40000.000000       40000.000000\n",
      "mean                    0.469590           1.616865\n",
      "std                     0.242354           0.834458\n",
      "min                     0.079413           0.273431\n",
      "25%                     0.438597           1.510150\n",
      "50%                     0.494080           1.701188\n",
      "75%                     0.554729           1.910011\n",
      "max                     1.049369           3.613125\n"
     ]
    }
   ],
   "source": [
    "# 1J: Expected profit under uniform price\n",
    "# Here you can use very similar code to 1E, except plug in P_star instead of P_i.\n",
    "df_data['purchase_proba_unif_price'] = beta_0 + np.dot(df_data[covariates], beta_1) + \\\n",
    "    (beta_2 + np.dot(df_data[covariates], beta_3)) * uniform_monopoly_price\n",
    "\n",
    "\n",
    "#Insert the purchase probabilities and the prices into the profit function\n",
    "df_data['profit_unif_price'] = df_data['purchase_proba_unif_price']*(uniform_monopoly_price - c)# something\n",
    "\n",
    "print(df_data[['purchase_proba_unif_price', 'profit_unif_price']].describe())"
   ]
  },
  {
   "cell_type": "code",
   "execution_count": 167,
   "metadata": {},
   "outputs": [
    {
     "data": {
      "text/html": [
       "<div>\n",
       "<style scoped>\n",
       "    .dataframe tbody tr th:only-of-type {\n",
       "        vertical-align: middle;\n",
       "    }\n",
       "\n",
       "    .dataframe tbody tr th {\n",
       "        vertical-align: top;\n",
       "    }\n",
       "\n",
       "    .dataframe thead th {\n",
       "        text-align: right;\n",
       "    }\n",
       "</style>\n",
       "<table border=\"1\" class=\"dataframe\">\n",
       "  <thead>\n",
       "    <tr style=\"text-align: right;\">\n",
       "      <th></th>\n",
       "      <th>Purchase</th>\n",
       "      <th>Price</th>\n",
       "      <th>NotNearCompetingStore</th>\n",
       "      <th>WealthyZipCode</th>\n",
       "      <th>Weekday</th>\n",
       "      <th>ExistingCustomer</th>\n",
       "      <th>purchase_proba_original_price</th>\n",
       "      <th>profit_under_original_price</th>\n",
       "      <th>monopoly_price</th>\n",
       "      <th>purchase_proba</th>\n",
       "      <th>profit</th>\n",
       "      <th>uniform_price</th>\n",
       "      <th>purchase_proba_unif_price</th>\n",
       "      <th>profit_unif_price</th>\n",
       "    </tr>\n",
       "  </thead>\n",
       "  <tbody>\n",
       "    <tr>\n",
       "      <th>1</th>\n",
       "      <td>1</td>\n",
       "      <td>13</td>\n",
       "      <td>0</td>\n",
       "      <td>0</td>\n",
       "      <td>1</td>\n",
       "      <td>0</td>\n",
       "      <td>0.566608</td>\n",
       "      <td>1.699824</td>\n",
       "      <td>13.230974</td>\n",
       "      <td>0.528805</td>\n",
       "      <td>1.708555</td>\n",
       "      <td>13.443141</td>\n",
       "      <td>0.49408</td>\n",
       "      <td>1.701188</td>\n",
       "    </tr>\n",
       "    <tr>\n",
       "      <th>2</th>\n",
       "      <td>1</td>\n",
       "      <td>13</td>\n",
       "      <td>1</td>\n",
       "      <td>0</td>\n",
       "      <td>1</td>\n",
       "      <td>1</td>\n",
       "      <td>0.261816</td>\n",
       "      <td>0.785447</td>\n",
       "      <td>12.735689</td>\n",
       "      <td>0.289816</td>\n",
       "      <td>0.792848</td>\n",
       "      <td>13.443141</td>\n",
       "      <td>0.21487</td>\n",
       "      <td>0.739827</td>\n",
       "    </tr>\n",
       "    <tr>\n",
       "      <th>3</th>\n",
       "      <td>1</td>\n",
       "      <td>13</td>\n",
       "      <td>0</td>\n",
       "      <td>0</td>\n",
       "      <td>1</td>\n",
       "      <td>0</td>\n",
       "      <td>0.566608</td>\n",
       "      <td>1.699824</td>\n",
       "      <td>13.230974</td>\n",
       "      <td>0.528805</td>\n",
       "      <td>1.708555</td>\n",
       "      <td>13.443141</td>\n",
       "      <td>0.49408</td>\n",
       "      <td>1.701188</td>\n",
       "    </tr>\n",
       "    <tr>\n",
       "      <th>4</th>\n",
       "      <td>1</td>\n",
       "      <td>13</td>\n",
       "      <td>0</td>\n",
       "      <td>0</td>\n",
       "      <td>1</td>\n",
       "      <td>0</td>\n",
       "      <td>0.566608</td>\n",
       "      <td>1.699824</td>\n",
       "      <td>13.230974</td>\n",
       "      <td>0.528805</td>\n",
       "      <td>1.708555</td>\n",
       "      <td>13.443141</td>\n",
       "      <td>0.49408</td>\n",
       "      <td>1.701188</td>\n",
       "    </tr>\n",
       "    <tr>\n",
       "      <th>5</th>\n",
       "      <td>0</td>\n",
       "      <td>15</td>\n",
       "      <td>0</td>\n",
       "      <td>0</td>\n",
       "      <td>1</td>\n",
       "      <td>0</td>\n",
       "      <td>0.239273</td>\n",
       "      <td>1.196366</td>\n",
       "      <td>13.230974</td>\n",
       "      <td>0.528805</td>\n",
       "      <td>1.708555</td>\n",
       "      <td>13.443141</td>\n",
       "      <td>0.49408</td>\n",
       "      <td>1.701188</td>\n",
       "    </tr>\n",
       "  </tbody>\n",
       "</table>\n",
       "</div>"
      ],
      "text/plain": [
       "   Purchase  Price  NotNearCompetingStore  WealthyZipCode  Weekday  \\\n",
       "1         1     13                      0               0        1   \n",
       "2         1     13                      1               0        1   \n",
       "3         1     13                      0               0        1   \n",
       "4         1     13                      0               0        1   \n",
       "5         0     15                      0               0        1   \n",
       "\n",
       "   ExistingCustomer  purchase_proba_original_price  \\\n",
       "1                 0                       0.566608   \n",
       "2                 1                       0.261816   \n",
       "3                 0                       0.566608   \n",
       "4                 0                       0.566608   \n",
       "5                 0                       0.239273   \n",
       "\n",
       "   profit_under_original_price  monopoly_price  purchase_proba    profit  \\\n",
       "1                     1.699824       13.230974        0.528805  1.708555   \n",
       "2                     0.785447       12.735689        0.289816  0.792848   \n",
       "3                     1.699824       13.230974        0.528805  1.708555   \n",
       "4                     1.699824       13.230974        0.528805  1.708555   \n",
       "5                     1.196366       13.230974        0.528805  1.708555   \n",
       "\n",
       "   uniform_price  purchase_proba_unif_price  profit_unif_price  \n",
       "1      13.443141                    0.49408           1.701188  \n",
       "2      13.443141                    0.21487           0.739827  \n",
       "3      13.443141                    0.49408           1.701188  \n",
       "4      13.443141                    0.49408           1.701188  \n",
       "5      13.443141                    0.49408           1.701188  "
      ]
     },
     "execution_count": 167,
     "metadata": {},
     "output_type": "execute_result"
    }
   ],
   "source": [
    "df_data.head()"
   ]
  },
  {
   "cell_type": "code",
   "execution_count": 168,
   "metadata": {},
   "outputs": [],
   "source": [
    "# 1K: Profit loss from uniform pricing\n",
    "\n",
    "# something"
   ]
  },
  {
   "cell_type": "code",
   "execution_count": 169,
   "metadata": {},
   "outputs": [
    {
     "data": {
      "text/html": [
       "<div>\n",
       "<style scoped>\n",
       "    .dataframe tbody tr th:only-of-type {\n",
       "        vertical-align: middle;\n",
       "    }\n",
       "\n",
       "    .dataframe tbody tr th {\n",
       "        vertical-align: top;\n",
       "    }\n",
       "\n",
       "    .dataframe thead th {\n",
       "        text-align: right;\n",
       "    }\n",
       "</style>\n",
       "<table border=\"1\" class=\"dataframe\">\n",
       "  <thead>\n",
       "    <tr style=\"text-align: right;\">\n",
       "      <th></th>\n",
       "      <th>profit</th>\n",
       "      <th>profit_unif_price</th>\n",
       "    </tr>\n",
       "  </thead>\n",
       "  <tbody>\n",
       "    <tr>\n",
       "      <th>1</th>\n",
       "      <td>1.708555</td>\n",
       "      <td>1.701188</td>\n",
       "    </tr>\n",
       "    <tr>\n",
       "      <th>2</th>\n",
       "      <td>0.792848</td>\n",
       "      <td>0.739827</td>\n",
       "    </tr>\n",
       "    <tr>\n",
       "      <th>3</th>\n",
       "      <td>1.708555</td>\n",
       "      <td>1.701188</td>\n",
       "    </tr>\n",
       "    <tr>\n",
       "      <th>4</th>\n",
       "      <td>1.708555</td>\n",
       "      <td>1.701188</td>\n",
       "    </tr>\n",
       "    <tr>\n",
       "      <th>5</th>\n",
       "      <td>1.708555</td>\n",
       "      <td>1.701188</td>\n",
       "    </tr>\n",
       "  </tbody>\n",
       "</table>\n",
       "</div>"
      ],
      "text/plain": [
       "     profit  profit_unif_price\n",
       "1  1.708555           1.701188\n",
       "2  0.792848           0.739827\n",
       "3  1.708555           1.701188\n",
       "4  1.708555           1.701188\n",
       "5  1.708555           1.701188"
      ]
     },
     "execution_count": 169,
     "metadata": {},
     "output_type": "execute_result"
    }
   ],
   "source": [
    "df_data[['profit', 'profit_unif_price']].head(5)"
   ]
  },
  {
   "cell_type": "code",
   "execution_count": 170,
   "metadata": {},
   "outputs": [
    {
     "name": "stdout",
     "output_type": "stream",
     "text": [
      "Total Profit at price discrimination is 70669.56912811569\n",
      "Total Profit at uniform price is 64674.60631774961\n",
      "\n",
      "Therefore, the expected profit loss from uniform pricing instead of price discrimination is -5994.96281036608\n"
     ]
    }
   ],
   "source": [
    "print(\"Total Profit at price discrimination is\", df_data['profit'].sum())\n",
    "print(\"Total Profit at uniform price is\", df_data['profit_unif_price'].sum())\n",
    "print(\"\")\n",
    "print(\"Therefore, the expected profit loss from uniform pricing instead of price discrimination is\", df_data['profit_unif_price'].sum() - df_data['profit'].sum())"
   ]
  },
  {
   "cell_type": "code",
   "execution_count": 171,
   "metadata": {},
   "outputs": [
    {
     "name": "stdout",
     "output_type": "stream",
     "text": [
      "If the firm operated at the price given in the data, they are going to make only this, 57399.000000012464 which is even less than the profit-max uniform price.\n"
     ]
    }
   ],
   "source": [
    "print(\"If the firm operated at the price given in the data, they are going to make only this,\", df_data['profit_under_original_price'].sum(), \"which is even less than the profit-max uniform price.\")"
   ]
  },
  {
   "cell_type": "markdown",
   "metadata": {},
   "source": [
    "1L: What data other than the variables in StaplesData.csv might better predict purchase probability and\n",
    "thus be useful for price discrimination?\n",
    "\n"
   ]
  },
  {
   "cell_type": "markdown",
   "metadata": {},
   "source": [
    "1. Do the consumer has a kid who goes to an elementary school? (yes/no)?\n",
    "\n",
    "2. Do the consumer go to college? (yes/no)?  "
   ]
  },
  {
   "cell_type": "markdown",
   "metadata": {},
   "source": [
    "1M: Concisely discuss two or three caveats to this analysis that you (as an economist at Staples) would\n",
    "want your manager to understand."
   ]
  },
  {
   "cell_type": "markdown",
   "metadata": {},
   "source": [
    "1. There are certainly more than  4 variables. But for the given data, we don't oberseve anything more. \n",
    "\n",
    "2. Just because we have 4 different variables, it doesn't mean that we are going to have 4 different prices. There are interaction terms, so it means there are going to be a lot more than 4 different prices. "
   ]
  }
 ],
 "metadata": {
  "kernelspec": {
   "display_name": "Python 3",
   "language": "python",
   "name": "python3"
  },
  "language_info": {
   "codemirror_mode": {
    "name": "ipython",
    "version": 3
   },
   "file_extension": ".py",
   "mimetype": "text/x-python",
   "name": "python",
   "nbconvert_exporter": "python",
   "pygments_lexer": "ipython3",
   "version": "3.7.3"
  }
 },
 "nbformat": 4,
 "nbformat_minor": 2
}
