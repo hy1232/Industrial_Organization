{
 "cells": [
  {
   "cell_type": "markdown",
   "metadata": {},
   "source": [
    "**Shawn (HyungJoon) Yoon**\n",
    "\n",
    "**5 hrs**\n",
    "\n",
    "**Yes**"
   ]
  },
  {
   "cell_type": "code",
   "execution_count": 1,
   "metadata": {},
   "outputs": [],
   "source": [
    "import pandas as pd\n",
    "from linearmodels import OLS, IV2SLS\n",
    "import numpy as np\n",
    "import seaborn as sns\n",
    "import matplotlib.pyplot as plt\n",
    "% matplotlib inline"
   ]
  },
  {
   "cell_type": "markdown",
   "metadata": {},
   "source": [
    "### The True Model \n",
    "\n",
    "Questions in this section can only be answered by someone having access to the true model\n",
    "and to unobservable variables. The following cell generates our data based on the true model."
   ]
  },
  {
   "cell_type": "code",
   "execution_count": 2,
   "metadata": {},
   "outputs": [
    {
     "name": "stdout",
     "output_type": "stream",
     "text": [
      "              income     preschool       charter  parent_income\n",
      "count   10000.000000  10000.000000  10000.000000   10000.000000\n",
      "mean   119687.014735      0.338700      0.503300  119599.287227\n",
      "std     56948.096746      0.473291      0.500014   57541.514460\n",
      "min        -0.000000      0.000000      0.000000   20019.390138\n",
      "25%     76703.367806      0.000000      0.000000   69218.711372\n",
      "50%    119023.010721      0.000000      1.000000  120200.897681\n",
      "75%    161769.669312      1.000000      1.000000  169043.215342\n",
      "max    316246.619706      1.000000      1.000000  219975.157515\n"
     ]
    },
    {
     "data": {
      "text/html": [
       "<div>\n",
       "<style scoped>\n",
       "    .dataframe tbody tr th:only-of-type {\n",
       "        vertical-align: middle;\n",
       "    }\n",
       "\n",
       "    .dataframe tbody tr th {\n",
       "        vertical-align: top;\n",
       "    }\n",
       "\n",
       "    .dataframe thead th {\n",
       "        text-align: right;\n",
       "    }\n",
       "</style>\n",
       "<table border=\"1\" class=\"dataframe\">\n",
       "  <thead>\n",
       "    <tr style=\"text-align: right;\">\n",
       "      <th></th>\n",
       "      <th>income</th>\n",
       "      <th>preschool</th>\n",
       "      <th>charter</th>\n",
       "      <th>parent_income</th>\n",
       "    </tr>\n",
       "  </thead>\n",
       "  <tbody>\n",
       "    <tr>\n",
       "      <th>0</th>\n",
       "      <td>132614.064482</td>\n",
       "      <td>0.0</td>\n",
       "      <td>0</td>\n",
       "      <td>103404.400941</td>\n",
       "    </tr>\n",
       "    <tr>\n",
       "      <th>1</th>\n",
       "      <td>163369.893688</td>\n",
       "      <td>0.0</td>\n",
       "      <td>0</td>\n",
       "      <td>164064.898688</td>\n",
       "    </tr>\n",
       "    <tr>\n",
       "      <th>2</th>\n",
       "      <td>14950.746840</td>\n",
       "      <td>0.0</td>\n",
       "      <td>1</td>\n",
       "      <td>20022.874963</td>\n",
       "    </tr>\n",
       "    <tr>\n",
       "      <th>3</th>\n",
       "      <td>185417.984020</td>\n",
       "      <td>1.0</td>\n",
       "      <td>0</td>\n",
       "      <td>80466.514526</td>\n",
       "    </tr>\n",
       "    <tr>\n",
       "      <th>4</th>\n",
       "      <td>-0.000000</td>\n",
       "      <td>0.0</td>\n",
       "      <td>1</td>\n",
       "      <td>49351.178163</td>\n",
       "    </tr>\n",
       "  </tbody>\n",
       "</table>\n",
       "</div>"
      ],
      "text/plain": [
       "          income  preschool  charter  parent_income\n",
       "0  132614.064482        0.0        0  103404.400941\n",
       "1  163369.893688        0.0        0  164064.898688\n",
       "2   14950.746840        0.0        1   20022.874963\n",
       "3  185417.984020        1.0        0   80466.514526\n",
       "4      -0.000000        0.0        1   49351.178163"
      ]
     },
     "execution_count": 2,
     "metadata": {},
     "output_type": "execute_result"
    }
   ],
   "source": [
    "# generating data\n",
    "\n",
    "np.random.seed(1) \n",
    "N = 10000\n",
    "\n",
    "parent_income = 20000 + 200000 * np.random.rand(N)\n",
    "charter = np.random.randint(0, 2, N)\n",
    "\n",
    "preschool = 1. * (.2 * charter + (.5/250000) * parent_income \n",
    "                  > np.random.rand(N))\n",
    "\n",
    "income = 20000 + 30000 * preschool + .75 * parent_income + 30000 * np.random.randn(N)\n",
    "income *= (income > 0)\n",
    "\n",
    "data = pd.DataFrame(\n",
    "    data=dict(income=income, preschool=preschool, charter=charter, \n",
    "              parent_income=parent_income)\n",
    ")\n",
    "print(data.describe())\n",
    "data.head()\n"
   ]
  },
  {
   "cell_type": "code",
   "execution_count": 3,
   "metadata": {},
   "outputs": [],
   "source": [
    "s = np.random.randn(N)"
   ]
  },
  {
   "cell_type": "code",
   "execution_count": 4,
   "metadata": {},
   "outputs": [
    {
     "data": {
      "text/plain": [
       "<matplotlib.axes._subplots.AxesSubplot at 0x25071a2bda0>"
      ]
     },
     "execution_count": 4,
     "metadata": {},
     "output_type": "execute_result"
    },
    {
     "data": {
      "image/png": "[encoded data removed]",
      "text/plain": [
       "<Figure size 432x288 with 1 Axes>"
      ]
     },
     "metadata": {
      "needs_background": "light"
     },
     "output_type": "display_data"
    }
   ],
   "source": [
    "sns.distplot(s)"
   ]
  },
  {
   "cell_type": "markdown",
   "metadata": {},
   "source": [
    "##### Question 1\n",
    "What do `np.random.seed`, `np.random.rand`, `np.random.randint`, and `np.random.randn` do? (Hint: a Google search may be helpful. Note that `np` stands for Numpy, which is one of the packages downloaded in the first cell.)\n",
    "\n",
    "Compute descriptive statistics for income (in the cell below).\n",
    "\n",
    "Plot the distribution of `income` using `sns.distplot` (in the cell below)."
   ]
  },
  {
   "cell_type": "markdown",
   "metadata": {},
   "source": [
    "**np.random.seed** = NumPy random seed is simply a function that sets the random seed of the NumPy pseudo-random number generator. It provides an essential input that enables NumPy to generate pseudo-random numbers for random processes.\n",
    "\n",
    "**np.random.rand** = It Create an array of the given shape and populate it with random samples from a uniform distribution over [0, 1).\n",
    "\n",
    "**np.random.randint** = Return random integers from the “discrete uniform” distribution of the specified dtype in the “half-open” interval [low, high). If high is None (the default), then results are from [0, low).\n",
    "\n",
    "**np.random.randn** = It creates an array of specified shape and fills it with random values as per standard normal distribution."
   ]
  },
  {
   "cell_type": "code",
   "execution_count": 5,
   "metadata": {},
   "outputs": [
    {
     "data": {
      "text/html": [
       "<div>\n",
       "<style scoped>\n",
       "    .dataframe tbody tr th:only-of-type {\n",
       "        vertical-align: middle;\n",
       "    }\n",
       "\n",
       "    .dataframe tbody tr th {\n",
       "        vertical-align: top;\n",
       "    }\n",
       "\n",
       "    .dataframe thead th {\n",
       "        text-align: right;\n",
       "    }\n",
       "</style>\n",
       "<table border=\"1\" class=\"dataframe\">\n",
       "  <thead>\n",
       "    <tr style=\"text-align: right;\">\n",
       "      <th></th>\n",
       "      <th>income</th>\n",
       "      <th>preschool</th>\n",
       "      <th>charter</th>\n",
       "      <th>parent_income</th>\n",
       "    </tr>\n",
       "  </thead>\n",
       "  <tbody>\n",
       "    <tr>\n",
       "      <th>0</th>\n",
       "      <td>132614.064482</td>\n",
       "      <td>0.0</td>\n",
       "      <td>0</td>\n",
       "      <td>103404.400941</td>\n",
       "    </tr>\n",
       "    <tr>\n",
       "      <th>1</th>\n",
       "      <td>163369.893688</td>\n",
       "      <td>0.0</td>\n",
       "      <td>0</td>\n",
       "      <td>164064.898688</td>\n",
       "    </tr>\n",
       "    <tr>\n",
       "      <th>2</th>\n",
       "      <td>14950.746840</td>\n",
       "      <td>0.0</td>\n",
       "      <td>1</td>\n",
       "      <td>20022.874963</td>\n",
       "    </tr>\n",
       "    <tr>\n",
       "      <th>3</th>\n",
       "      <td>185417.984020</td>\n",
       "      <td>1.0</td>\n",
       "      <td>0</td>\n",
       "      <td>80466.514526</td>\n",
       "    </tr>\n",
       "    <tr>\n",
       "      <th>4</th>\n",
       "      <td>-0.000000</td>\n",
       "      <td>0.0</td>\n",
       "      <td>1</td>\n",
       "      <td>49351.178163</td>\n",
       "    </tr>\n",
       "    <tr>\n",
       "      <th>5</th>\n",
       "      <td>25048.828765</td>\n",
       "      <td>0.0</td>\n",
       "      <td>1</td>\n",
       "      <td>38467.718954</td>\n",
       "    </tr>\n",
       "    <tr>\n",
       "      <th>6</th>\n",
       "      <td>42965.954592</td>\n",
       "      <td>0.0</td>\n",
       "      <td>1</td>\n",
       "      <td>57252.042276</td>\n",
       "    </tr>\n",
       "    <tr>\n",
       "      <th>7</th>\n",
       "      <td>71425.709363</td>\n",
       "      <td>0.0</td>\n",
       "      <td>1</td>\n",
       "      <td>89112.145409</td>\n",
       "    </tr>\n",
       "    <tr>\n",
       "      <th>8</th>\n",
       "      <td>123077.699488</td>\n",
       "      <td>0.0</td>\n",
       "      <td>0</td>\n",
       "      <td>99353.494846</td>\n",
       "    </tr>\n",
       "    <tr>\n",
       "      <th>9</th>\n",
       "      <td>174056.565189</td>\n",
       "      <td>1.0</td>\n",
       "      <td>1</td>\n",
       "      <td>127763.346801</td>\n",
       "    </tr>\n",
       "  </tbody>\n",
       "</table>\n",
       "</div>"
      ],
      "text/plain": [
       "          income  preschool  charter  parent_income\n",
       "0  132614.064482        0.0        0  103404.400941\n",
       "1  163369.893688        0.0        0  164064.898688\n",
       "2   14950.746840        0.0        1   20022.874963\n",
       "3  185417.984020        1.0        0   80466.514526\n",
       "4      -0.000000        0.0        1   49351.178163\n",
       "5   25048.828765        0.0        1   38467.718954\n",
       "6   42965.954592        0.0        1   57252.042276\n",
       "7   71425.709363        0.0        1   89112.145409\n",
       "8  123077.699488        0.0        0   99353.494846\n",
       "9  174056.565189        1.0        1  127763.346801"
      ]
     },
     "execution_count": 5,
     "metadata": {},
     "output_type": "execute_result"
    }
   ],
   "source": [
    "data.head(10)"
   ]
  },
  {
   "cell_type": "code",
   "execution_count": 6,
   "metadata": {},
   "outputs": [
    {
     "name": "stdout",
     "output_type": "stream",
     "text": [
      "income descriptive statistics\n",
      " count     10000.000000\n",
      "mean     119687.014735\n",
      "std       56948.096746\n",
      "min          -0.000000\n",
      "25%       76703.367806\n",
      "50%      119023.010721\n",
      "75%      161769.669312\n",
      "max      316246.619706\n",
      "Name: income, dtype: float64\n"
     ]
    },
    {
     "data": {
      "text/plain": [
       "<matplotlib.axes._subplots.AxesSubplot at 0x25073ad0828>"
      ]
     },
     "execution_count": 6,
     "metadata": {},
     "output_type": "execute_result"
    },
    {
     "data": {
      "image/png": "[encoded data removed]",
      "text/plain": [
       "<Figure size 432x288 with 1 Axes>"
      ]
     },
     "metadata": {
      "needs_background": "light"
     },
     "output_type": "display_data"
    }
   ],
   "source": [
    "print('income descriptive statistics\\n', data.income.describe()) # finish this line\n",
    "sns.distplot(data.income) #finish this line"
   ]
  },
  {
   "cell_type": "code",
   "execution_count": 7,
   "metadata": {},
   "outputs": [
    {
     "data": {
      "text/plain": [
       "income           2187\n",
       "preschool        2187\n",
       "charter          2187\n",
       "parent_income    2187\n",
       "dtype: int64"
      ]
     },
     "execution_count": 7,
     "metadata": {},
     "output_type": "execute_result"
    }
   ],
   "source": [
    "data[(data.charter > 0) & (data.preschool > 0)].count()"
   ]
  },
  {
   "cell_type": "markdown",
   "metadata": {},
   "source": [
    "##### Question 2\n",
    "What is the probability of going to preschool if `charter==1` and `parent_income==100000`? (Hint: what kind of random variable does `np.random.rand()` generate?)\n",
    "\n",
    "What is the probability of going to preschool given arbitrary values for `charter` and `parent_income < 250000`? (Hint: think about what you did in the question above and generalize it for arbitrary values.)"
   ]
  },
  {
   "cell_type": "markdown",
   "metadata": {},
   "source": [
    "40%"
   ]
  },
  {
   "cell_type": "code",
   "execution_count": 8,
   "metadata": {},
   "outputs": [],
   "source": [
    "#parent_income = 20000 + 200000 * np.random.rand(N)\n",
    "#charter = np.random.randint(0, 2, N)\n",
    "\n",
    "#preschool = 1. * (.2 * charter + (.5/250000) * parent_income \n",
    "#                  > np.random.rand(N))\n"
   ]
  },
  {
   "cell_type": "markdown",
   "metadata": {},
   "source": [
    "P(preschool = 1 | charter = 1, parent_income = 100000) = 0.4\n",
    "\n",
    "P(preschool = 1 | charter = 1, parent_income = 100000) = 1 * {(0.2 * (1) + (0.5/250000) * (100000)) > random_variable_between_1_and_0_with_uniform_distribution} ~ 0.4"
   ]
  },
  {
   "cell_type": "markdown",
   "metadata": {},
   "source": [
    "**There is around 40 percent of going to preschool when charter is arbitrary and parent_income < 250000.**"
   ]
  },
  {
   "cell_type": "markdown",
   "metadata": {},
   "source": [
    "#### Question 3\n",
    "What is the true value of $\\alpha_1$?"
   ]
  },
  {
   "cell_type": "markdown",
   "metadata": {},
   "source": [
    "income = 20000 + 30000 * preschool + .75 * parent_income + 30000 * np.random.randn(N)\n",
    "\n",
    "Therefore, $\\alpha_1$ is 30000"
   ]
  },
  {
   "cell_type": "markdown",
   "metadata": {},
   "source": [
    "#### Question 4\n",
    "What is the correlation between `charter` and `parent_income`?\n",
    "\n",
    "What is the correlation between `preschool` and `parent_income`?\n",
    "\n",
    "What is the correlation between `charter` and `pre-school`?\n",
    "\n",
    "Is `charter` a good instrument for `preschool`? Why?"
   ]
  },
  {
   "cell_type": "code",
   "execution_count": 9,
   "metadata": {},
   "outputs": [
    {
     "data": {
      "text/html": [
       "<div>\n",
       "<style scoped>\n",
       "    .dataframe tbody tr th:only-of-type {\n",
       "        vertical-align: middle;\n",
       "    }\n",
       "\n",
       "    .dataframe tbody tr th {\n",
       "        vertical-align: top;\n",
       "    }\n",
       "\n",
       "    .dataframe thead th {\n",
       "        text-align: right;\n",
       "    }\n",
       "</style>\n",
       "<table border=\"1\" class=\"dataframe\">\n",
       "  <thead>\n",
       "    <tr style=\"text-align: right;\">\n",
       "      <th></th>\n",
       "      <th>income</th>\n",
       "      <th>preschool</th>\n",
       "      <th>charter</th>\n",
       "      <th>parent_income</th>\n",
       "    </tr>\n",
       "  </thead>\n",
       "  <tbody>\n",
       "    <tr>\n",
       "      <th>income</th>\n",
       "      <td>1.000000</td>\n",
       "      <td>0.448153</td>\n",
       "      <td>0.051179</td>\n",
       "      <td>0.817068</td>\n",
       "    </tr>\n",
       "    <tr>\n",
       "      <th>preschool</th>\n",
       "      <td>0.448153</td>\n",
       "      <td>1.000000</td>\n",
       "      <td>0.203831</td>\n",
       "      <td>0.253681</td>\n",
       "    </tr>\n",
       "    <tr>\n",
       "      <th>charter</th>\n",
       "      <td>0.051179</td>\n",
       "      <td>0.203831</td>\n",
       "      <td>1.000000</td>\n",
       "      <td>-0.008320</td>\n",
       "    </tr>\n",
       "    <tr>\n",
       "      <th>parent_income</th>\n",
       "      <td>0.817068</td>\n",
       "      <td>0.253681</td>\n",
       "      <td>-0.008320</td>\n",
       "      <td>1.000000</td>\n",
       "    </tr>\n",
       "  </tbody>\n",
       "</table>\n",
       "</div>"
      ],
      "text/plain": [
       "                 income  preschool   charter  parent_income\n",
       "income         1.000000   0.448153  0.051179       0.817068\n",
       "preschool      0.448153   1.000000  0.203831       0.253681\n",
       "charter        0.051179   0.203831  1.000000      -0.008320\n",
       "parent_income  0.817068   0.253681 -0.008320       1.000000"
      ]
     },
     "execution_count": 9,
     "metadata": {},
     "output_type": "execute_result"
    }
   ],
   "source": [
    "# hint: hit \\tab after writing 'data.cor' \n",
    "data.corr()"
   ]
  },
  {
   "cell_type": "markdown",
   "metadata": {},
   "source": [
    "Correlation between charter and parent_income: -0.00832\n",
    "\n",
    "Correlation between preschool and parent_income: 0.253681\n",
    "\n",
    "Correlation between charter and preschool: 0.203831"
   ]
  },
  {
   "cell_type": "markdown",
   "metadata": {},
   "source": [
    "Charter is a good instrument for preschool, because the data shows that charter is correlated with preschool but not with parent_income which is presumably unobserved varaible (noise). "
   ]
  },
  {
   "cell_type": "markdown",
   "metadata": {},
   "source": [
    "### The Estimated Model"
   ]
  },
  {
   "cell_type": "markdown",
   "metadata": {},
   "source": [
    "#### Question 5\n",
    "Draw a scatter plot of `income` on `preschool` for the first 100 data points.\n",
    "\n",
    "Run the OLS of `income` on `preschool`.\n",
    "\n",
    "What value $\\hat \\alpha_1^{OLS}$ do you recover? \n",
    "\n",
    "Is it close to the true $\\alpha_1$? In what direction is the bias? Explain?"
   ]
  },
  {
   "cell_type": "code",
   "execution_count": 10,
   "metadata": {},
   "outputs": [
    {
     "name": "stdout",
     "output_type": "stream",
     "text": [
      "                            OLS Estimation Summary                            \n",
      "==============================================================================\n",
      "Dep. Variable:                 income   R-squared:                      0.2008\n",
      "Estimator:                        OLS   Adj. R-squared:                 0.2008\n",
      "No. Observations:               10000   F-statistic:                    2525.5\n",
      "Date:                Wed, Dec 04 2019   P-value (F-stat)                0.0000\n",
      "Time:                        09:06:03   Distribution:                  chi2(1)\n",
      "Cov. Estimator:                robust                                         \n",
      "                                                                              \n",
      "                             Parameter Estimates                              \n",
      "==============================================================================\n",
      "            Parameter  Std. Err.     T-stat    P-value    Lower CI    Upper CI\n",
      "------------------------------------------------------------------------------\n",
      "Intercept   1.014e+05     627.60     161.60     0.0000   1.002e+05   1.027e+05\n",
      "preschool   5.392e+04     1073.0     50.254     0.0000   5.182e+04   5.603e+04\n",
      "==============================================================================\n"
     ]
    },
    {
     "data": {
      "image/png": "[encoded data removed]",
      "text/plain": [
       "<Figure size 432x288 with 1 Axes>"
      ]
     },
     "metadata": {
      "needs_background": "light"
     },
     "output_type": "display_data"
    }
   ],
   "source": [
    "sns.regplot(x='preschool', y='income', data=data.loc[:100], fit_reg=False)\n",
    "\n",
    "model = OLS.from_formula('income ~ preschool', data) # fill in the details, Google may be helpful (remember OLS is from linearmodels package)\n",
    "                         \n",
    "print(model.fit().summary) # fit the model and print the results"
   ]
  },
  {
   "cell_type": "markdown",
   "metadata": {},
   "source": [
    "$\\hat \\alpha_1^{OLS}$ is 53920.\n",
    "\n",
    "It is not so close to the true value of $\\alpha_1$ which is 30000. \n",
    "\n",
    "It is biased in upward direction. Because there are many noises included in the model. Especially, within the noise, there is parent_income which shows high correlation (25%) with preschool. In other words, if one has wealthy parents, it is more likely that the one will go to preschool and it will end up with high income. But we are not sure if this is due to preschool or wealthy parents. "
   ]
  },
  {
   "cell_type": "markdown",
   "metadata": {},
   "source": [
    "#### Question 6\n",
    "Run the OLS of `preschool` on `charter`. Get coefficient $\\hat \\beta_1$.\n",
    "\n",
    "Run the OLS of `income` on `charter`. Get coefficient $\\hat \\gamma_1$.\n",
    "\n",
    "Compute the 2SLS estimate of $\\alpha_1$, $\\hat \\alpha_1^{2SLS}$.\n",
    "\n",
    "Is it close to $\\alpha_1$?"
   ]
  },
  {
   "cell_type": "code",
   "execution_count": 11,
   "metadata": {},
   "outputs": [
    {
     "name": "stdout",
     "output_type": "stream",
     "text": [
      "                            OLS Estimation Summary                            \n",
      "==============================================================================\n",
      "Dep. Variable:              preschool   R-squared:                      0.0415\n",
      "Estimator:                        OLS   Adj. R-squared:                 0.0415\n",
      "No. Observations:               10000   F-statistic:                    434.32\n",
      "Date:                Wed, Dec 04 2019   P-value (F-stat)                0.0000\n",
      "Time:                        09:06:04   Distribution:                  chi2(1)\n",
      "Cov. Estimator:                robust                                         \n",
      "                                                                              \n",
      "                             Parameter Estimates                              \n",
      "==============================================================================\n",
      "            Parameter  Std. Err.     T-stat    P-value    Lower CI    Upper CI\n",
      "------------------------------------------------------------------------------\n",
      "Intercept      0.2416     0.0061     39.778     0.0000      0.2297      0.2535\n",
      "charter        0.1929     0.0093     20.840     0.0000      0.1748      0.2111\n",
      "==============================================================================\n"
     ]
    }
   ],
   "source": [
    "model2 = OLS.from_formula('preschool ~ 1 + charter', data)\n",
    "print(model2.fit().summary)"
   ]
  },
  {
   "cell_type": "code",
   "execution_count": 12,
   "metadata": {},
   "outputs": [
    {
     "data": {
      "image/png": "[encoded data removed]",
      "text/plain": [
       "<Figure size 432x288 with 1 Axes>"
      ]
     },
     "metadata": {
      "needs_background": "light"
     },
     "output_type": "display_data"
    },
    {
     "data": {
      "text/plain": [
       "(Text(0.5, 1.0, 'preschool on charter'), None)"
      ]
     },
     "execution_count": 12,
     "metadata": {},
     "output_type": "execute_result"
    }
   ],
   "source": [
    "sns.regplot(x='charter', y='preschool', data = data).set_title(\n",
    "    'preschool on charter'), plt.show()"
   ]
  },
  {
   "cell_type": "markdown",
   "metadata": {},
   "source": [
    "$\\hat \\beta_1$ = 0.1929"
   ]
  },
  {
   "cell_type": "markdown",
   "metadata": {},
   "source": [
    "$\\hat \\beta_0$ = 0.2416"
   ]
  },
  {
   "cell_type": "code",
   "execution_count": 13,
   "metadata": {},
   "outputs": [
    {
     "name": "stdout",
     "output_type": "stream",
     "text": [
      "                            OLS Estimation Summary                            \n",
      "==============================================================================\n",
      "Dep. Variable:                 income   R-squared:                      0.0026\n",
      "Estimator:                        OLS   Adj. R-squared:                 0.0025\n",
      "No. Observations:               10000   F-statistic:                    26.268\n",
      "Date:                Wed, Dec 04 2019   P-value (F-stat)                0.0000\n",
      "Time:                        09:06:07   Distribution:                  chi2(1)\n",
      "Cov. Estimator:                robust                                         \n",
      "                                                                              \n",
      "                             Parameter Estimates                              \n",
      "==============================================================================\n",
      "            Parameter  Std. Err.     T-stat    P-value    Lower CI    Upper CI\n",
      "------------------------------------------------------------------------------\n",
      "Intercept   1.168e+05     799.60     146.01     0.0000   1.152e+05   1.183e+05\n",
      "charter        5829.0     1137.3     5.1252     0.0000      3599.9      8058.0\n",
      "==============================================================================\n"
     ]
    }
   ],
   "source": [
    "model3 = OLS.from_formula('income ~ 1 + charter', data)\n",
    "print(model3.fit().summary)"
   ]
  },
  {
   "cell_type": "markdown",
   "metadata": {},
   "source": [
    "$\\hat \\gamma_1$ = 5829"
   ]
  },
  {
   "cell_type": "markdown",
   "metadata": {},
   "source": [
    "$\\hat \\gamma_0$ = 101400"
   ]
  },
  {
   "cell_type": "markdown",
   "metadata": {},
   "source": [
    "$\\hat \\alpha_1^{2SLS}$ = $\\hat \\gamma_1$ / $\\hat \\beta_1$ = 5829 / 0.1929 = 30217.729"
   ]
  },
  {
   "cell_type": "code",
   "execution_count": 14,
   "metadata": {},
   "outputs": [
    {
     "data": {
      "text/plain": [
       "30217.72939346812"
      ]
     },
     "execution_count": 14,
     "metadata": {},
     "output_type": "execute_result"
    }
   ],
   "source": [
    "5829/0.1929"
   ]
  },
  {
   "cell_type": "markdown",
   "metadata": {},
   "source": [
    "$\\hat \\alpha_0^{2SLS}$ = $\\hat \\gamma_0$ - ($\\hat \\alpha_1^{2SLS}$ * $\\hat \\beta_0$) = 101400 - (30217.729 * 0.2416)"
   ]
  },
  {
   "cell_type": "code",
   "execution_count": 15,
   "metadata": {},
   "outputs": [
    {
     "data": {
      "text/plain": [
       "94099.3966736"
      ]
     },
     "execution_count": 15,
     "metadata": {},
     "output_type": "execute_result"
    }
   ],
   "source": [
    "101400-(30217.729*0.2416)"
   ]
  },
  {
   "cell_type": "markdown",
   "metadata": {},
   "source": [
    "The intercept ($\\hat \\alpha_0^{2SLS}$) is off by little, but approximately correct. "
   ]
  },
  {
   "cell_type": "markdown",
   "metadata": {},
   "source": [
    "Now, therefore the predicted true model is the following: \n",
    "\n",
    "Income = $\\hat \\alpha_0^{2SLS}$ + $\\hat \\alpha_1^{2SLS}$(Preschool)\n",
    "\n",
    "Income = 94099 + 30217(Preschool)"
   ]
  },
  {
   "cell_type": "markdown",
   "metadata": {},
   "source": [
    "#### Question 7\n",
    "Using the `IV2SLS` module of `linearmodels`, compute the 2SLS estimate of $\\alpha_1$ instrumenting `preschool` with `charter` directly."
   ]
  },
  {
   "cell_type": "code",
   "execution_count": 16,
   "metadata": {},
   "outputs": [
    {
     "name": "stdout",
     "output_type": "stream",
     "text": [
      "                          IV-2SLS Estimation Summary                          \n",
      "==============================================================================\n",
      "Dep. Variable:                 income   R-squared:                      0.1620\n",
      "Estimator:                    IV-2SLS   Adj. R-squared:                 0.1619\n",
      "No. Observations:               10000   F-statistic:                    31.260\n",
      "Date:                Wed, Dec 04 2019   P-value (F-stat)                0.0000\n",
      "Time:                        09:06:11   Distribution:                  chi2(1)\n",
      "Cov. Estimator:                robust                                         \n",
      "                                                                              \n",
      "                             Parameter Estimates                              \n",
      "==============================================================================\n",
      "            Parameter  Std. Err.     T-stat    P-value    Lower CI    Upper CI\n",
      "------------------------------------------------------------------------------\n",
      "Intercept   1.095e+05     1898.9     57.642     0.0000   1.057e+05   1.132e+05\n",
      "preschool   3.021e+04     5403.5     5.5911     0.0000   1.962e+04    4.08e+04\n",
      "==============================================================================\n",
      "\n",
      "Endogenous: preschool\n",
      "Instruments: charter\n",
      "Robust Covariance (Heteroskedastic)\n",
      "Debiased: False\n"
     ]
    }
   ],
   "source": [
    "model5 = IV2SLS.from_formula('income ~  1 + [preschool ~ charter]', data) # fill the details\n",
    "print(model5.fit().summary)"
   ]
  },
  {
   "cell_type": "code",
   "execution_count": 17,
   "metadata": {},
   "outputs": [
    {
     "data": {
      "text/html": [
       "<div>\n",
       "<style scoped>\n",
       "    .dataframe tbody tr th:only-of-type {\n",
       "        vertical-align: middle;\n",
       "    }\n",
       "\n",
       "    .dataframe tbody tr th {\n",
       "        vertical-align: top;\n",
       "    }\n",
       "\n",
       "    .dataframe thead th {\n",
       "        text-align: right;\n",
       "    }\n",
       "</style>\n",
       "<table border=\"1\" class=\"dataframe\">\n",
       "  <thead>\n",
       "    <tr style=\"text-align: right;\">\n",
       "      <th></th>\n",
       "      <th>income</th>\n",
       "      <th>preschool</th>\n",
       "      <th>charter</th>\n",
       "      <th>parent_income</th>\n",
       "    </tr>\n",
       "  </thead>\n",
       "  <tbody>\n",
       "    <tr>\n",
       "      <th>0</th>\n",
       "      <td>132614.064482</td>\n",
       "      <td>0.0</td>\n",
       "      <td>0</td>\n",
       "      <td>103404.400941</td>\n",
       "    </tr>\n",
       "    <tr>\n",
       "      <th>1</th>\n",
       "      <td>163369.893688</td>\n",
       "      <td>0.0</td>\n",
       "      <td>0</td>\n",
       "      <td>164064.898688</td>\n",
       "    </tr>\n",
       "    <tr>\n",
       "      <th>2</th>\n",
       "      <td>14950.746840</td>\n",
       "      <td>0.0</td>\n",
       "      <td>1</td>\n",
       "      <td>20022.874963</td>\n",
       "    </tr>\n",
       "    <tr>\n",
       "      <th>3</th>\n",
       "      <td>185417.984020</td>\n",
       "      <td>1.0</td>\n",
       "      <td>0</td>\n",
       "      <td>80466.514526</td>\n",
       "    </tr>\n",
       "    <tr>\n",
       "      <th>4</th>\n",
       "      <td>-0.000000</td>\n",
       "      <td>0.0</td>\n",
       "      <td>1</td>\n",
       "      <td>49351.178163</td>\n",
       "    </tr>\n",
       "  </tbody>\n",
       "</table>\n",
       "</div>"
      ],
      "text/plain": [
       "          income  preschool  charter  parent_income\n",
       "0  132614.064482        0.0        0  103404.400941\n",
       "1  163369.893688        0.0        0  164064.898688\n",
       "2   14950.746840        0.0        1   20022.874963\n",
       "3  185417.984020        1.0        0   80466.514526\n",
       "4      -0.000000        0.0        1   49351.178163"
      ]
     },
     "execution_count": 17,
     "metadata": {},
     "output_type": "execute_result"
    }
   ],
   "source": [
    "data.head()"
   ]
  }
 ],
 "metadata": {
  "kernelspec": {
   "display_name": "Python 3",
   "language": "python",
   "name": "python3"
  },
  "language_info": {
   "codemirror_mode": {
    "name": "ipython",
    "version": 3
   },
   "file_extension": ".py",
   "mimetype": "text/x-python",
   "name": "python",
   "nbconvert_exporter": "python",
   "pygments_lexer": "ipython3",
   "version": "3.8.5"
  }
 },
 "nbformat": 4,
 "nbformat_minor": 2
}
