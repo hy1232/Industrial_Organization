{
 "cells": [
  {
   "cell_type": "markdown",
   "metadata": {},
   "source": [
    "**Shawn (HyungJoon) Yoon**\n",
    "\n",
    "**8 hrs** \n",
    "\n",
    "**Yes. I followed the honor code on this problem set.** "
   ]
  },
  {
   "cell_type": "markdown",
   "metadata": {},
   "source": [
    "**1.A: Derive a formula for the profit-maximizing price $P_i^*$ as a function of ($\\beta_1$, $\\beta_0$, $c_i$, $U_i$).**"
   ]
  },
  {
   "cell_type": "markdown",
   "metadata": {},
   "source": [
    "max $\\Pi_i$($P_i$) = $Q_i$($P_i$) * ($P_i$ - $c_i$)\n",
    "\n",
    "FOC $\\Pi_i$($P_i$) = 0 \n",
    "\n",
    "$\\beta_0$ + 2$\\beta_1$$P_i$ - $\\beta_1$$c_i$ + $U_i$ = 0\n",
    "\n",
    "**$P_i^*$ = ($\\beta_1$$c_i$ - $\\beta_0$ - $U_i$) / 2$\\beta_1$**"
   ]
  },
  {
   "cell_type": "markdown",
   "metadata": {},
   "source": [
    "**1.B: Derive a formula for the profit-maximizing quantity $Q_i^*$ as a function of ($\\beta_1$, $\\beta_0$, $c_i$, $U_i$).**"
   ]
  },
  {
   "cell_type": "markdown",
   "metadata": {},
   "source": [
    "Demand Function: $Q_i$ = $\\beta_0$ + $\\beta_1$$P_i$ + $U_i$\n",
    "\n",
    "Rewrite the demand function for $P_i$ as a function of $Q_i$.\n",
    "\n",
    "$P_i$ = ($Q_i$ - $\\beta_0$ - $U_i$) / $\\beta_1$\n",
    "\n",
    "We can write the profit function in terms of quantities now. \n",
    "\n",
    "max $\\Pi_i$($Q_i$) = $Q_i$ * ((($Q_i$ - $\\beta_0$ - $U_i$) / $\\beta_1$) - $c_i$)\n",
    "\n",
    "FOC $\\Pi_i$($Q_i$) = 0 \n",
    "\n",
    "**$Q_i^*$ = ($\\beta_0$ + $U_i$ + $c_i$$\\beta_1$) / 2**\n"
   ]
  },
  {
   "cell_type": "code",
   "execution_count": 1,
   "metadata": {},
   "outputs": [],
   "source": [
    "import pandas as pd\n",
    "import statsmodels.formula.api as smf\n",
    "from linearmodels import OLS, IV2SLS \n",
    "import seaborn as sns\n",
    "import matplotlib.pyplot as plt\n",
    "% matplotlib inline"
   ]
  },
  {
   "cell_type": "code",
   "execution_count": 2,
   "metadata": {},
   "outputs": [
    {
     "data": {
      "text/html": [
       "<div>\n",
       "<style scoped>\n",
       "    .dataframe tbody tr th:only-of-type {\n",
       "        vertical-align: middle;\n",
       "    }\n",
       "\n",
       "    .dataframe tbody tr th {\n",
       "        vertical-align: top;\n",
       "    }\n",
       "\n",
       "    .dataframe thead th {\n",
       "        text-align: right;\n",
       "    }\n",
       "</style>\n",
       "<table border=\"1\" class=\"dataframe\">\n",
       "  <thead>\n",
       "    <tr style=\"text-align: right;\">\n",
       "      <th></th>\n",
       "      <th>quantity</th>\n",
       "      <th>price</th>\n",
       "      <th>marginal_cost</th>\n",
       "    </tr>\n",
       "  </thead>\n",
       "  <tbody>\n",
       "    <tr>\n",
       "      <th>count</th>\n",
       "      <td>107.000000</td>\n",
       "      <td>107.000000</td>\n",
       "      <td>107.000000</td>\n",
       "    </tr>\n",
       "    <tr>\n",
       "      <th>mean</th>\n",
       "      <td>58.044658</td>\n",
       "      <td>93.661326</td>\n",
       "      <td>40.893455</td>\n",
       "    </tr>\n",
       "    <tr>\n",
       "      <th>std</th>\n",
       "      <td>9.844403</td>\n",
       "      <td>8.152619</td>\n",
       "      <td>12.205947</td>\n",
       "    </tr>\n",
       "    <tr>\n",
       "      <th>min</th>\n",
       "      <td>34.918711</td>\n",
       "      <td>71.100828</td>\n",
       "      <td>20.016081</td>\n",
       "    </tr>\n",
       "    <tr>\n",
       "      <th>25%</th>\n",
       "      <td>51.491145</td>\n",
       "      <td>87.461543</td>\n",
       "      <td>30.252817</td>\n",
       "    </tr>\n",
       "    <tr>\n",
       "      <th>50%</th>\n",
       "      <td>58.625370</td>\n",
       "      <td>94.285421</td>\n",
       "      <td>42.388679</td>\n",
       "    </tr>\n",
       "    <tr>\n",
       "      <th>75%</th>\n",
       "      <td>64.938534</td>\n",
       "      <td>99.566770</td>\n",
       "      <td>52.067163</td>\n",
       "    </tr>\n",
       "    <tr>\n",
       "      <th>max</th>\n",
       "      <td>84.918270</td>\n",
       "      <td>115.686635</td>\n",
       "      <td>59.544646</td>\n",
       "    </tr>\n",
       "  </tbody>\n",
       "</table>\n",
       "</div>"
      ],
      "text/plain": [
       "         quantity       price  marginal_cost\n",
       "count  107.000000  107.000000     107.000000\n",
       "mean    58.044658   93.661326      40.893455\n",
       "std      9.844403    8.152619      12.205947\n",
       "min     34.918711   71.100828      20.016081\n",
       "25%     51.491145   87.461543      30.252817\n",
       "50%     58.625370   94.285421      42.388679\n",
       "75%     64.938534   99.566770      52.067163\n",
       "max     84.918270  115.686635      59.544646"
      ]
     },
     "execution_count": 2,
     "metadata": {},
     "output_type": "execute_result"
    }
   ],
   "source": [
    "# Import data\n",
    "df_data = pd.read_csv(\"cement_data.csv\")\n",
    "df_data.describe()"
   ]
  },
  {
   "cell_type": "markdown",
   "metadata": {},
   "source": [
    "**1C: Scatterplot of Price vs. Quantity**"
   ]
  },
  {
   "cell_type": "code",
   "execution_count": 3,
   "metadata": {},
   "outputs": [
    {
     "data": {
      "image/png": "[encoded data removed]",
      "text/plain": [
       "<Figure size 432x288 with 1 Axes>"
      ]
     },
     "metadata": {
      "needs_background": "light"
     },
     "output_type": "display_data"
    },
    {
     "data": {
      "text/plain": [
       "(Text(0.5, 1.0, '1C: Scatterplot of Price vs. Quantity'), None)"
      ]
     },
     "execution_count": 3,
     "metadata": {},
     "output_type": "execute_result"
    }
   ],
   "source": [
    "# 1C: Scatterplot of Price vs. Quantity\n",
    "sns.regplot(x='quantity', y='price', data=df_data).set_title(\n",
    "    '1C: Scatterplot of Price vs. Quantity'), plt.show()"
   ]
  },
  {
   "cell_type": "markdown",
   "metadata": {},
   "source": [
    "**1D: Is the slope of the relationship between price and quantity an unbiased estimate of the $\\beta_1$ parameter in the demand function above? Why or why not?**\n",
    "\n",
    "No, it's not a good estimate of the $\\beta_1$. We are trying to regress quantities on price. But within the noise variable, we assume that there is demand shock which is supposedly related to price. So we have endogenous issue here. \n",
    "\n",
    "In order for the slope to be a good estimate of $\\beta_1$, price needs to be uncorrelated with the noise and correlated with quantities, which is not the case in here. \n",
    "\n",
    "Therefore, we need an instrument to fix this problem. We are going to use marginal_cost as an instrument. It is a good instrument because it is correlated with price but not with the demand shock. "
   ]
  },
  {
   "cell_type": "code",
   "execution_count": 4,
   "metadata": {},
   "outputs": [
    {
     "data": {
      "image/png": "[encoded data removed]",
      "text/plain": [
       "<Figure size 432x288 with 1 Axes>"
      ]
     },
     "metadata": {
      "needs_background": "light"
     },
     "output_type": "display_data"
    },
    {
     "data": {
      "text/plain": [
       "(Text(0.5, 1.0, '1E: Scatterplot of Price vs. Cost'), None)"
      ]
     },
     "execution_count": 4,
     "metadata": {},
     "output_type": "execute_result"
    }
   ],
   "source": [
    "# 1E: Scatterplot of Price vs. Cost\n",
    "# adjust the code for 1C\n",
    "sns.regplot(x='marginal_cost', y='price', data=df_data).set_title(\n",
    "    '1E: Scatterplot of Price vs. Cost'), plt.show()"
   ]
  },
  {
   "cell_type": "markdown",
   "metadata": {},
   "source": [
    "**$P_i^*$ = ($\\beta_1$$c_i$ - $\\beta_0$ - $U_i$) / 2$\\beta_1$**\n",
    "\n",
    "As you can see from this equation, when the cost increases, the price increases. So there is a correlation between the two. "
   ]
  },
  {
   "cell_type": "code",
   "execution_count": 5,
   "metadata": {},
   "outputs": [
    {
     "data": {
      "image/png": "[encoded data removed]",
      "text/plain": [
       "<Figure size 432x288 with 1 Axes>"
      ]
     },
     "metadata": {
      "needs_background": "light"
     },
     "output_type": "display_data"
    },
    {
     "data": {
      "text/plain": [
       "(Text(0.5, 1.0, '1F: Scatterplot of Quantity vs. Cost'), None)"
      ]
     },
     "execution_count": 5,
     "metadata": {},
     "output_type": "execute_result"
    }
   ],
   "source": [
    "# 1F: Scatterplot of Quantity vs. Cost\n",
    "# adjust the code for 1C\n",
    "sns.regplot(x='marginal_cost', y='quantity', data=df_data).set_title(\n",
    "    '1F: Scatterplot of Quantity vs. Cost'), plt.show()"
   ]
  },
  {
   "cell_type": "markdown",
   "metadata": {},
   "source": [
    "This plot is showing the negative relationship between the cost and the quantity. When the cost increases, price increases. When the price increases, the quantities sold decreases. \n",
    "\n",
    "So, the cost is indirectly affecting the quantity. \n",
    "\n",
    "marginal_cost -> price -> quantity"
   ]
  },
  {
   "cell_type": "code",
   "execution_count": 6,
   "metadata": {},
   "outputs": [
    {
     "data": {
      "text/html": [
       "<div>\n",
       "<style scoped>\n",
       "    .dataframe tbody tr th:only-of-type {\n",
       "        vertical-align: middle;\n",
       "    }\n",
       "\n",
       "    .dataframe tbody tr th {\n",
       "        vertical-align: top;\n",
       "    }\n",
       "\n",
       "    .dataframe thead th {\n",
       "        text-align: right;\n",
       "    }\n",
       "</style>\n",
       "<table border=\"1\" class=\"dataframe\">\n",
       "  <thead>\n",
       "    <tr style=\"text-align: right;\">\n",
       "      <th></th>\n",
       "      <th>quantity</th>\n",
       "      <th>price</th>\n",
       "      <th>marginal_cost</th>\n",
       "    </tr>\n",
       "  </thead>\n",
       "  <tbody>\n",
       "    <tr>\n",
       "      <th>0</th>\n",
       "      <td>68.868817</td>\n",
       "      <td>104.996694</td>\n",
       "      <td>42.388679</td>\n",
       "    </tr>\n",
       "    <tr>\n",
       "      <th>1</th>\n",
       "      <td>64.135595</td>\n",
       "      <td>78.807326</td>\n",
       "      <td>20.502239</td>\n",
       "    </tr>\n",
       "    <tr>\n",
       "      <th>2</th>\n",
       "      <td>63.455278</td>\n",
       "      <td>80.565587</td>\n",
       "      <td>22.878971</td>\n",
       "    </tr>\n",
       "    <tr>\n",
       "      <th>3</th>\n",
       "      <td>39.672656</td>\n",
       "      <td>94.757104</td>\n",
       "      <td>58.691053</td>\n",
       "    </tr>\n",
       "    <tr>\n",
       "      <th>4</th>\n",
       "      <td>62.992347</td>\n",
       "      <td>99.989789</td>\n",
       "      <td>42.724018</td>\n",
       "    </tr>\n",
       "  </tbody>\n",
       "</table>\n",
       "</div>"
      ],
      "text/plain": [
       "    quantity       price  marginal_cost\n",
       "0  68.868817  104.996694      42.388679\n",
       "1  64.135595   78.807326      20.502239\n",
       "2  63.455278   80.565587      22.878971\n",
       "3  39.672656   94.757104      58.691053\n",
       "4  62.992347   99.989789      42.724018"
      ]
     },
     "execution_count": 6,
     "metadata": {},
     "output_type": "execute_result"
    }
   ],
   "source": [
    "df_data.head()"
   ]
  },
  {
   "cell_type": "code",
   "execution_count": 7,
   "metadata": {},
   "outputs": [
    {
     "name": "stdout",
     "output_type": "stream",
     "text": [
      "                            OLS Estimation Summary                            \n",
      "==============================================================================\n",
      "Dep. Variable:                  price   R-squared:                      0.4626\n",
      "Estimator:                        OLS   Adj. R-squared:                 0.4574\n",
      "No. Observations:                 107   F-statistic:                    80.180\n",
      "Date:                Wed, Oct 30 2019   P-value (F-stat)                0.0000\n",
      "Time:                        21:10:26   Distribution:                  chi2(1)\n",
      "Cov. Estimator:                robust                                         \n",
      "                                                                              \n",
      "                               Parameter Estimates                               \n",
      "=================================================================================\n",
      "               Parameter  Std. Err.     T-stat    P-value    Lower CI    Upper CI\n",
      "---------------------------------------------------------------------------------\n",
      "Intercept         75.085     2.1215     35.392     0.0000      70.927      79.243\n",
      "marginal_cost     0.4543     0.0507     8.9543     0.0000      0.3548      0.5537\n",
      "=================================================================================\n"
     ]
    }
   ],
   "source": [
    "# 1G: Regress price on marginal cost\n",
    "# use the code of cs1_pandora\n",
    "model1 = OLS.from_formula('price ~ 1 + marginal_cost', df_data)\n",
    "print(model1.fit().summary)"
   ]
  },
  {
   "cell_type": "code",
   "execution_count": 8,
   "metadata": {},
   "outputs": [
    {
     "name": "stdout",
     "output_type": "stream",
     "text": [
      "                            OLS Estimation Summary                            \n",
      "==============================================================================\n",
      "Dep. Variable:               quantity   R-squared:                      0.5540\n",
      "Estimator:                        OLS   Adj. R-squared:                 0.5498\n",
      "No. Observations:                 107   F-statistic:                    115.72\n",
      "Date:                Wed, Oct 30 2019   P-value (F-stat)                0.0000\n",
      "Time:                        21:10:26   Distribution:                  chi2(1)\n",
      "Cov. Estimator:                robust                                         \n",
      "                                                                              \n",
      "                               Parameter Estimates                               \n",
      "=================================================================================\n",
      "               Parameter  Std. Err.     T-stat    P-value    Lower CI    Upper CI\n",
      "---------------------------------------------------------------------------------\n",
      "Intercept         82.593     2.3337     35.392     0.0000      78.019      87.167\n",
      "marginal_cost    -0.6003     0.0558    -10.757     0.0000     -0.7097     -0.4909\n",
      "=================================================================================\n"
     ]
    }
   ],
   "source": [
    "# 1H: Regress quantity on marginal cost\n",
    "model2 = OLS.from_formula('quantity ~ 1 + marginal_cost', df_data)\n",
    "print(model2.fit().summary)"
   ]
  },
  {
   "cell_type": "code",
   "execution_count": 9,
   "metadata": {},
   "outputs": [
    {
     "data": {
      "text/plain": [
       "-1.3213735417125247"
      ]
     },
     "execution_count": 9,
     "metadata": {},
     "output_type": "execute_result"
    }
   ],
   "source": [
    "# 1I Divide your answer in 1H by your answer in 1G and report the result. As we discussed in lecture, this is an estimate of $\\beta_1$.\n",
    "\n",
    "-0.6003/0.4543"
   ]
  },
  {
   "cell_type": "code",
   "execution_count": 10,
   "metadata": {},
   "outputs": [
    {
     "name": "stdout",
     "output_type": "stream",
     "text": [
      "                          IV-2SLS Estimation Summary                          \n",
      "==============================================================================\n",
      "Dep. Variable:               quantity   R-squared:                     -1.1613\n",
      "Estimator:                    IV-2SLS   Adj. R-squared:                -1.1819\n",
      "No. Observations:                 107   F-statistic:                    23.880\n",
      "Date:                Wed, Oct 30 2019   P-value (F-stat)                0.0000\n",
      "Time:                        21:10:27   Distribution:                  chi2(1)\n",
      "Cov. Estimator:                robust                                         \n",
      "                                                                              \n",
      "                             Parameter Estimates                              \n",
      "==============================================================================\n",
      "            Parameter  Std. Err.     T-stat    P-value    Lower CI    Upper CI\n",
      "------------------------------------------------------------------------------\n",
      "Intercept      181.82     25.289     7.1897     0.0000      132.25      231.38\n",
      "price         -1.3215     0.2704    -4.8867     0.0000     -1.8515     -0.7915\n",
      "==============================================================================\n",
      "\n",
      "Endogenous: price\n",
      "Instruments: marginal_cost\n",
      "Robust Covariance (Heteroskedastic)\n",
      "Debiased: False\n"
     ]
    },
    {
     "name": "stderr",
     "output_type": "stream",
     "text": [
      "c:\\users\\shawnyoon\\appdata\\local\\programs\\python\\python37\\lib\\site-packages\\linearmodels\\utility.py:184: RuntimeWarning: divide by zero encountered in true_divide\n",
      "  return vecs @ np.diag(1 / np.sqrt(vals)) @ vecs.T\n"
     ]
    },
    {
     "data": {
      "text/plain": [
       "-1.3214926355178704"
      ]
     },
     "execution_count": 10,
     "metadata": {},
     "output_type": "execute_result"
    }
   ],
   "source": [
    "#1J\n",
    "\n",
    "iv_model = IV2SLS.from_formula('quantity ~ 1 + [price ~ marginal_cost]', df_data) # complete the formula\n",
    "res = iv_model.fit()\n",
    "print(res.summary)\n",
    "beta1 = res.params[1]\n",
    "beta1"
   ]
  },
  {
   "cell_type": "code",
   "execution_count": 11,
   "metadata": {},
   "outputs": [
    {
     "data": {
      "text/plain": [
       "count    107.000000\n",
       "mean      -2.199564\n",
       "std        0.445619\n",
       "min       -3.240195\n",
       "25%       -2.515977\n",
       "50%       -2.128343\n",
       "75%       -1.842472\n",
       "max       -1.526003\n",
       "dtype: float64"
      ]
     },
     "execution_count": 11,
     "metadata": {},
     "output_type": "execute_result"
    }
   ],
   "source": [
    "# 1K: Demand elasticities\n",
    "\n",
    "etas =  -1.3215 * df_data['price'] / df_data['quantity']#complete the formula\n",
    "etas.describe()"
   ]
  },
  {
   "cell_type": "markdown",
   "metadata": {},
   "source": [
    "**1L:** \n",
    "\n",
    "**Are these cement plants pricing on the elastic (n < -1) or inelastic (n > -1) portion of their demand functions?**"
   ]
  },
  {
   "cell_type": "code",
   "execution_count": 12,
   "metadata": {},
   "outputs": [
    {
     "data": {
      "text/plain": [
       "<matplotlib.axes._subplots.AxesSubplot at 0x1c4a4a0fb00>"
      ]
     },
     "execution_count": 12,
     "metadata": {},
     "output_type": "execute_result"
    },
    {
     "data": {
      "image/png": "[encoded data removed]",
      "text/plain": [
       "<Figure size 432x288 with 1 Axes>"
      ]
     },
     "metadata": {
      "needs_background": "light"
     },
     "output_type": "display_data"
    }
   ],
   "source": [
    "sns.distplot(etas) "
   ]
  },
  {
   "cell_type": "markdown",
   "metadata": {},
   "source": [
    "These plants are pricing on the elastic portion of their demand functions. "
   ]
  },
  {
   "cell_type": "markdown",
   "metadata": {},
   "source": [
    "**Is this what you would expect given our discussion of the inverse elasticity markup rule? (Hint: If you put n > -1 into the inverse elasticity markup rule, you get an equation that doesn't make any sense. So the monopolist will always set price at a point on the demand curve where n < -1.)**"
   ]
  },
  {
   "cell_type": "markdown",
   "metadata": {},
   "source": [
    "Yes."
   ]
  },
  {
   "cell_type": "markdown",
   "metadata": {},
   "source": [
    "**1M: Imagine now that states regulate all cement plants and force them to sell all cement at marginal cost $c_i$. In each market, there would now be a new equilibrium quantity $Q_i^p$. Create the vector of 107 values of $Q_i^p$. Report the mean.**"
   ]
  },
  {
   "cell_type": "code",
   "execution_count": 13,
   "metadata": {},
   "outputs": [
    {
     "data": {
      "text/plain": [
       "127.77701006678153"
      ]
     },
     "execution_count": 13,
     "metadata": {},
     "output_type": "execute_result"
    }
   ],
   "source": [
    "# 1M: Quantity at marginal cost\n",
    "    # First need to recover (beta_0 + u_i) for every market. \n",
    "    # To do this, back this out given the existing price and quantity.\n",
    "beta0_plus_noise = df_data.quantity - beta1 * df_data.price\n",
    "\n",
    "    # Now that we have that, we can plug in marginal cost to the demand function\n",
    "Q_pc = beta0_plus_noise + beta1 * df_data.marginal_cost# complete the formula\n",
    "\n",
    "Q_pc.mean()"
   ]
  },
  {
   "cell_type": "code",
   "execution_count": 14,
   "metadata": {},
   "outputs": [],
   "source": [
    "new_data = pd.DataFrame(data=dict(quantity = Q_pc, price = df_data.marginal_cost))"
   ]
  },
  {
   "cell_type": "code",
   "execution_count": 15,
   "metadata": {},
   "outputs": [
    {
     "data": {
      "text/html": [
       "<div>\n",
       "<style scoped>\n",
       "    .dataframe tbody tr th:only-of-type {\n",
       "        vertical-align: middle;\n",
       "    }\n",
       "\n",
       "    .dataframe tbody tr th {\n",
       "        vertical-align: top;\n",
       "    }\n",
       "\n",
       "    .dataframe thead th {\n",
       "        text-align: right;\n",
       "    }\n",
       "</style>\n",
       "<table border=\"1\" class=\"dataframe\">\n",
       "  <thead>\n",
       "    <tr style=\"text-align: right;\">\n",
       "      <th></th>\n",
       "      <th>quantity</th>\n",
       "      <th>price</th>\n",
       "    </tr>\n",
       "  </thead>\n",
       "  <tbody>\n",
       "    <tr>\n",
       "      <th>0</th>\n",
       "      <td>151.604848</td>\n",
       "      <td>42.388679</td>\n",
       "    </tr>\n",
       "    <tr>\n",
       "      <th>1</th>\n",
       "      <td>141.185338</td>\n",
       "      <td>20.502239</td>\n",
       "    </tr>\n",
       "    <tr>\n",
       "      <th>2</th>\n",
       "      <td>139.687716</td>\n",
       "      <td>22.878971</td>\n",
       "    </tr>\n",
       "    <tr>\n",
       "      <th>3</th>\n",
       "      <td>87.333677</td>\n",
       "      <td>58.691053</td>\n",
       "    </tr>\n",
       "    <tr>\n",
       "      <th>4</th>\n",
       "      <td>138.668640</td>\n",
       "      <td>42.724018</td>\n",
       "    </tr>\n",
       "  </tbody>\n",
       "</table>\n",
       "</div>"
      ],
      "text/plain": [
       "     quantity      price\n",
       "0  151.604848  42.388679\n",
       "1  141.185338  20.502239\n",
       "2  139.687716  22.878971\n",
       "3   87.333677  58.691053\n",
       "4  138.668640  42.724018"
      ]
     },
     "execution_count": 15,
     "metadata": {},
     "output_type": "execute_result"
    }
   ],
   "source": [
    "new_data.head()"
   ]
  },
  {
   "cell_type": "code",
   "execution_count": 16,
   "metadata": {},
   "outputs": [
    {
     "data": {
      "text/html": [
       "<div>\n",
       "<style scoped>\n",
       "    .dataframe tbody tr th:only-of-type {\n",
       "        vertical-align: middle;\n",
       "    }\n",
       "\n",
       "    .dataframe tbody tr th {\n",
       "        vertical-align: top;\n",
       "    }\n",
       "\n",
       "    .dataframe thead th {\n",
       "        text-align: right;\n",
       "    }\n",
       "</style>\n",
       "<table border=\"1\" class=\"dataframe\">\n",
       "  <thead>\n",
       "    <tr style=\"text-align: right;\">\n",
       "      <th></th>\n",
       "      <th>quantity</th>\n",
       "      <th>price</th>\n",
       "      <th>marginal_cost</th>\n",
       "    </tr>\n",
       "  </thead>\n",
       "  <tbody>\n",
       "    <tr>\n",
       "      <th>0</th>\n",
       "      <td>68.868817</td>\n",
       "      <td>104.996694</td>\n",
       "      <td>42.388679</td>\n",
       "    </tr>\n",
       "    <tr>\n",
       "      <th>1</th>\n",
       "      <td>64.135595</td>\n",
       "      <td>78.807326</td>\n",
       "      <td>20.502239</td>\n",
       "    </tr>\n",
       "    <tr>\n",
       "      <th>2</th>\n",
       "      <td>63.455278</td>\n",
       "      <td>80.565587</td>\n",
       "      <td>22.878971</td>\n",
       "    </tr>\n",
       "    <tr>\n",
       "      <th>3</th>\n",
       "      <td>39.672656</td>\n",
       "      <td>94.757104</td>\n",
       "      <td>58.691053</td>\n",
       "    </tr>\n",
       "    <tr>\n",
       "      <th>4</th>\n",
       "      <td>62.992347</td>\n",
       "      <td>99.989789</td>\n",
       "      <td>42.724018</td>\n",
       "    </tr>\n",
       "  </tbody>\n",
       "</table>\n",
       "</div>"
      ],
      "text/plain": [
       "    quantity       price  marginal_cost\n",
       "0  68.868817  104.996694      42.388679\n",
       "1  64.135595   78.807326      20.502239\n",
       "2  63.455278   80.565587      22.878971\n",
       "3  39.672656   94.757104      58.691053\n",
       "4  62.992347   99.989789      42.724018"
      ]
     },
     "execution_count": 16,
     "metadata": {},
     "output_type": "execute_result"
    }
   ],
   "source": [
    "df_data.head()"
   ]
  },
  {
   "cell_type": "code",
   "execution_count": 17,
   "metadata": {},
   "outputs": [
    {
     "data": {
      "image/png": "[encoded data removed]",
      "text/plain": [
       "<Figure size 432x288 with 1 Axes>"
      ]
     },
     "metadata": {
      "needs_background": "light"
     },
     "output_type": "display_data"
    },
    {
     "data": {
      "text/plain": [
       "(Text(0.5, 1.0, 'Scatterplot of (Quantity vs. Price) under Govnt regulation - operating as perfect competition'),\n",
       " None)"
      ]
     },
     "execution_count": 17,
     "metadata": {},
     "output_type": "execute_result"
    }
   ],
   "source": [
    "sns.regplot(x='quantity', y='price', data=new_data).set_title(\n",
    "    'Scatterplot of (Quantity vs. Price) under Govnt regulation - operating as perfect competition'), plt.show()"
   ]
  },
  {
   "cell_type": "markdown",
   "metadata": {},
   "source": [
    "**1N:** \n",
    "\n",
    "**Write the formula for the deadweight loss (DWL) from monopoly pricing relative to marginal cost pricing in market i, as a function of ($Q_i^p$, $Q_i^*$, $P_i^*$, $c_i$).** "
   ]
  },
  {
   "cell_type": "markdown",
   "metadata": {},
   "source": [
    "DWL = ($P_i$ - $c_i$) * ($Q_i^p$ - $Q_i^*$) / 2 "
   ]
  },
  {
   "cell_type": "code",
   "execution_count": 18,
   "metadata": {},
   "outputs": [
    {
     "data": {
      "text/plain": [
       "202469.71236039212"
      ]
     },
     "execution_count": 18,
     "metadata": {},
     "output_type": "execute_result"
    }
   ],
   "source": [
    "#1O: DWL\n",
    "DWL = (df_data['price'] - df_data['marginal_cost'])*(Q_pc - df_data['quantity'])/2 # complete the formula\n",
    "DWL.sum()"
   ]
  },
  {
   "cell_type": "code",
   "execution_count": 19,
   "metadata": {},
   "outputs": [
    {
     "data": {
      "text/html": [
       "<div>\n",
       "<style scoped>\n",
       "    .dataframe tbody tr th:only-of-type {\n",
       "        vertical-align: middle;\n",
       "    }\n",
       "\n",
       "    .dataframe tbody tr th {\n",
       "        vertical-align: top;\n",
       "    }\n",
       "\n",
       "    .dataframe thead th {\n",
       "        text-align: right;\n",
       "    }\n",
       "</style>\n",
       "<table border=\"1\" class=\"dataframe\">\n",
       "  <thead>\n",
       "    <tr style=\"text-align: right;\">\n",
       "      <th></th>\n",
       "      <th>quantity</th>\n",
       "      <th>price</th>\n",
       "      <th>marginal_cost</th>\n",
       "    </tr>\n",
       "  </thead>\n",
       "  <tbody>\n",
       "    <tr>\n",
       "      <th>0</th>\n",
       "      <td>68.868817</td>\n",
       "      <td>104.996694</td>\n",
       "      <td>42.388679</td>\n",
       "    </tr>\n",
       "    <tr>\n",
       "      <th>1</th>\n",
       "      <td>64.135595</td>\n",
       "      <td>78.807326</td>\n",
       "      <td>20.502239</td>\n",
       "    </tr>\n",
       "    <tr>\n",
       "      <th>2</th>\n",
       "      <td>63.455278</td>\n",
       "      <td>80.565587</td>\n",
       "      <td>22.878971</td>\n",
       "    </tr>\n",
       "    <tr>\n",
       "      <th>3</th>\n",
       "      <td>39.672656</td>\n",
       "      <td>94.757104</td>\n",
       "      <td>58.691053</td>\n",
       "    </tr>\n",
       "    <tr>\n",
       "      <th>4</th>\n",
       "      <td>62.992347</td>\n",
       "      <td>99.989789</td>\n",
       "      <td>42.724018</td>\n",
       "    </tr>\n",
       "    <tr>\n",
       "      <th>5</th>\n",
       "      <td>47.266009</td>\n",
       "      <td>71.100828</td>\n",
       "      <td>28.131729</td>\n",
       "    </tr>\n",
       "    <tr>\n",
       "      <th>6</th>\n",
       "      <td>76.534922</td>\n",
       "      <td>99.670231</td>\n",
       "      <td>30.093030</td>\n",
       "    </tr>\n",
       "    <tr>\n",
       "      <th>7</th>\n",
       "      <td>46.926779</td>\n",
       "      <td>92.413743</td>\n",
       "      <td>49.753034</td>\n",
       "    </tr>\n",
       "    <tr>\n",
       "      <th>8</th>\n",
       "      <td>67.093345</td>\n",
       "      <td>88.811129</td>\n",
       "      <td>27.817179</td>\n",
       "    </tr>\n",
       "    <tr>\n",
       "      <th>9</th>\n",
       "      <td>54.339826</td>\n",
       "      <td>92.654199</td>\n",
       "      <td>43.254357</td>\n",
       "    </tr>\n",
       "    <tr>\n",
       "      <th>10</th>\n",
       "      <td>58.625370</td>\n",
       "      <td>112.096590</td>\n",
       "      <td>58.800800</td>\n",
       "    </tr>\n",
       "    <tr>\n",
       "      <th>11</th>\n",
       "      <td>34.918711</td>\n",
       "      <td>85.617435</td>\n",
       "      <td>53.873152</td>\n",
       "    </tr>\n",
       "    <tr>\n",
       "      <th>12</th>\n",
       "      <td>61.305220</td>\n",
       "      <td>85.325929</td>\n",
       "      <td>29.593910</td>\n",
       "    </tr>\n",
       "    <tr>\n",
       "      <th>13</th>\n",
       "      <td>55.256659</td>\n",
       "      <td>89.984115</td>\n",
       "      <td>39.750789</td>\n",
       "    </tr>\n",
       "    <tr>\n",
       "      <th>14</th>\n",
       "      <td>63.864245</td>\n",
       "      <td>102.856633</td>\n",
       "      <td>44.798229</td>\n",
       "    </tr>\n",
       "    <tr>\n",
       "      <th>15</th>\n",
       "      <td>42.513236</td>\n",
       "      <td>91.807632</td>\n",
       "      <td>53.159236</td>\n",
       "    </tr>\n",
       "    <tr>\n",
       "      <th>16</th>\n",
       "      <td>64.257378</td>\n",
       "      <td>84.687454</td>\n",
       "      <td>26.271656</td>\n",
       "    </tr>\n",
       "    <tr>\n",
       "      <th>17</th>\n",
       "      <td>62.007385</td>\n",
       "      <td>77.113398</td>\n",
       "      <td>20.743048</td>\n",
       "    </tr>\n",
       "    <tr>\n",
       "      <th>18</th>\n",
       "      <td>67.776116</td>\n",
       "      <td>84.415537</td>\n",
       "      <td>22.800886</td>\n",
       "    </tr>\n",
       "    <tr>\n",
       "      <th>19</th>\n",
       "      <td>62.671522</td>\n",
       "      <td>96.427915</td>\n",
       "      <td>39.453804</td>\n",
       "    </tr>\n",
       "    <tr>\n",
       "      <th>20</th>\n",
       "      <td>47.406108</td>\n",
       "      <td>87.349640</td>\n",
       "      <td>44.253178</td>\n",
       "    </tr>\n",
       "    <tr>\n",
       "      <th>21</th>\n",
       "      <td>65.070696</td>\n",
       "      <td>101.909236</td>\n",
       "      <td>42.754057</td>\n",
       "    </tr>\n",
       "    <tr>\n",
       "      <th>22</th>\n",
       "      <td>68.779957</td>\n",
       "      <td>95.221730</td>\n",
       "      <td>32.694496</td>\n",
       "    </tr>\n",
       "    <tr>\n",
       "      <th>23</th>\n",
       "      <td>51.019152</td>\n",
       "      <td>105.925694</td>\n",
       "      <td>59.544646</td>\n",
       "    </tr>\n",
       "    <tr>\n",
       "      <th>24</th>\n",
       "      <td>63.002025</td>\n",
       "      <td>100.464377</td>\n",
       "      <td>43.189809</td>\n",
       "    </tr>\n",
       "    <tr>\n",
       "      <th>25</th>\n",
       "      <td>55.508935</td>\n",
       "      <td>85.668315</td>\n",
       "      <td>35.205647</td>\n",
       "    </tr>\n",
       "    <tr>\n",
       "      <th>26</th>\n",
       "      <td>55.957462</td>\n",
       "      <td>92.908349</td>\n",
       "      <td>42.037929</td>\n",
       "    </tr>\n",
       "    <tr>\n",
       "      <th>27</th>\n",
       "      <td>45.584372</td>\n",
       "      <td>91.253715</td>\n",
       "      <td>49.813377</td>\n",
       "    </tr>\n",
       "    <tr>\n",
       "      <th>28</th>\n",
       "      <td>52.267716</td>\n",
       "      <td>94.285421</td>\n",
       "      <td>46.769316</td>\n",
       "    </tr>\n",
       "    <tr>\n",
       "      <th>29</th>\n",
       "      <td>67.149436</td>\n",
       "      <td>91.641724</td>\n",
       "      <td>30.596782</td>\n",
       "    </tr>\n",
       "    <tr>\n",
       "      <th>...</th>\n",
       "      <td>...</td>\n",
       "      <td>...</td>\n",
       "      <td>...</td>\n",
       "    </tr>\n",
       "    <tr>\n",
       "      <th>77</th>\n",
       "      <td>54.527445</td>\n",
       "      <td>107.174704</td>\n",
       "      <td>57.604299</td>\n",
       "    </tr>\n",
       "    <tr>\n",
       "      <th>78</th>\n",
       "      <td>57.921399</td>\n",
       "      <td>95.936384</td>\n",
       "      <td>43.280567</td>\n",
       "    </tr>\n",
       "    <tr>\n",
       "      <th>79</th>\n",
       "      <td>55.380780</td>\n",
       "      <td>105.499443</td>\n",
       "      <td>55.153279</td>\n",
       "    </tr>\n",
       "    <tr>\n",
       "      <th>80</th>\n",
       "      <td>48.748381</td>\n",
       "      <td>98.106088</td>\n",
       "      <td>53.789378</td>\n",
       "    </tr>\n",
       "    <tr>\n",
       "      <th>81</th>\n",
       "      <td>47.575683</td>\n",
       "      <td>99.466314</td>\n",
       "      <td>56.215693</td>\n",
       "    </tr>\n",
       "    <tr>\n",
       "      <th>82</th>\n",
       "      <td>60.281845</td>\n",
       "      <td>93.196888</td>\n",
       "      <td>38.395211</td>\n",
       "    </tr>\n",
       "    <tr>\n",
       "      <th>83</th>\n",
       "      <td>60.055757</td>\n",
       "      <td>96.450016</td>\n",
       "      <td>41.853873</td>\n",
       "    </tr>\n",
       "    <tr>\n",
       "      <th>84</th>\n",
       "      <td>52.917969</td>\n",
       "      <td>100.051388</td>\n",
       "      <td>51.944144</td>\n",
       "    </tr>\n",
       "    <tr>\n",
       "      <th>85</th>\n",
       "      <td>63.606750</td>\n",
       "      <td>89.253072</td>\n",
       "      <td>31.428754</td>\n",
       "    </tr>\n",
       "    <tr>\n",
       "      <th>86</th>\n",
       "      <td>53.184455</td>\n",
       "      <td>87.959646</td>\n",
       "      <td>39.610141</td>\n",
       "    </tr>\n",
       "    <tr>\n",
       "      <th>87</th>\n",
       "      <td>58.651302</td>\n",
       "      <td>97.283777</td>\n",
       "      <td>43.964412</td>\n",
       "    </tr>\n",
       "    <tr>\n",
       "      <th>88</th>\n",
       "      <td>69.571927</td>\n",
       "      <td>83.868538</td>\n",
       "      <td>20.621331</td>\n",
       "    </tr>\n",
       "    <tr>\n",
       "      <th>89</th>\n",
       "      <td>64.414538</td>\n",
       "      <td>102.297928</td>\n",
       "      <td>43.739256</td>\n",
       "    </tr>\n",
       "    <tr>\n",
       "      <th>90</th>\n",
       "      <td>68.451004</td>\n",
       "      <td>99.575240</td>\n",
       "      <td>37.347054</td>\n",
       "    </tr>\n",
       "    <tr>\n",
       "      <th>91</th>\n",
       "      <td>52.626741</td>\n",
       "      <td>100.136913</td>\n",
       "      <td>52.294421</td>\n",
       "    </tr>\n",
       "    <tr>\n",
       "      <th>92</th>\n",
       "      <td>59.249977</td>\n",
       "      <td>86.473408</td>\n",
       "      <td>32.609792</td>\n",
       "    </tr>\n",
       "    <tr>\n",
       "      <th>93</th>\n",
       "      <td>44.565970</td>\n",
       "      <td>96.230067</td>\n",
       "      <td>55.715548</td>\n",
       "    </tr>\n",
       "    <tr>\n",
       "      <th>94</th>\n",
       "      <td>59.463349</td>\n",
       "      <td>97.171879</td>\n",
       "      <td>43.114289</td>\n",
       "    </tr>\n",
       "    <tr>\n",
       "      <th>95</th>\n",
       "      <td>65.531826</td>\n",
       "      <td>86.934795</td>\n",
       "      <td>27.360408</td>\n",
       "    </tr>\n",
       "    <tr>\n",
       "      <th>96</th>\n",
       "      <td>49.086654</td>\n",
       "      <td>96.141401</td>\n",
       "      <td>51.517169</td>\n",
       "    </tr>\n",
       "    <tr>\n",
       "      <th>97</th>\n",
       "      <td>55.862291</td>\n",
       "      <td>95.265148</td>\n",
       "      <td>44.481247</td>\n",
       "    </tr>\n",
       "    <tr>\n",
       "      <th>98</th>\n",
       "      <td>63.163990</td>\n",
       "      <td>79.578180</td>\n",
       "      <td>22.156371</td>\n",
       "    </tr>\n",
       "    <tr>\n",
       "      <th>99</th>\n",
       "      <td>64.990979</td>\n",
       "      <td>95.890456</td>\n",
       "      <td>36.807747</td>\n",
       "    </tr>\n",
       "    <tr>\n",
       "      <th>100</th>\n",
       "      <td>50.707021</td>\n",
       "      <td>93.260046</td>\n",
       "      <td>47.162753</td>\n",
       "    </tr>\n",
       "    <tr>\n",
       "      <th>101</th>\n",
       "      <td>57.974569</td>\n",
       "      <td>109.448224</td>\n",
       "      <td>56.744071</td>\n",
       "    </tr>\n",
       "    <tr>\n",
       "      <th>102</th>\n",
       "      <td>72.017343</td>\n",
       "      <td>85.486393</td>\n",
       "      <td>20.016081</td>\n",
       "    </tr>\n",
       "    <tr>\n",
       "      <th>103</th>\n",
       "      <td>51.963138</td>\n",
       "      <td>106.309582</td>\n",
       "      <td>59.070366</td>\n",
       "    </tr>\n",
       "    <tr>\n",
       "      <th>104</th>\n",
       "      <td>52.503394</td>\n",
       "      <td>82.793571</td>\n",
       "      <td>35.063213</td>\n",
       "    </tr>\n",
       "    <tr>\n",
       "      <th>105</th>\n",
       "      <td>48.847130</td>\n",
       "      <td>103.357824</td>\n",
       "      <td>58.951342</td>\n",
       "    </tr>\n",
       "    <tr>\n",
       "      <th>106</th>\n",
       "      <td>61.250419</td>\n",
       "      <td>99.870843</td>\n",
       "      <td>44.188644</td>\n",
       "    </tr>\n",
       "  </tbody>\n",
       "</table>\n",
       "<p>107 rows × 3 columns</p>\n",
       "</div>"
      ],
      "text/plain": [
       "      quantity       price  marginal_cost\n",
       "0    68.868817  104.996694      42.388679\n",
       "1    64.135595   78.807326      20.502239\n",
       "2    63.455278   80.565587      22.878971\n",
       "3    39.672656   94.757104      58.691053\n",
       "4    62.992347   99.989789      42.724018\n",
       "5    47.266009   71.100828      28.131729\n",
       "6    76.534922   99.670231      30.093030\n",
       "7    46.926779   92.413743      49.753034\n",
       "8    67.093345   88.811129      27.817179\n",
       "9    54.339826   92.654199      43.254357\n",
       "10   58.625370  112.096590      58.800800\n",
       "11   34.918711   85.617435      53.873152\n",
       "12   61.305220   85.325929      29.593910\n",
       "13   55.256659   89.984115      39.750789\n",
       "14   63.864245  102.856633      44.798229\n",
       "15   42.513236   91.807632      53.159236\n",
       "16   64.257378   84.687454      26.271656\n",
       "17   62.007385   77.113398      20.743048\n",
       "18   67.776116   84.415537      22.800886\n",
       "19   62.671522   96.427915      39.453804\n",
       "20   47.406108   87.349640      44.253178\n",
       "21   65.070696  101.909236      42.754057\n",
       "22   68.779957   95.221730      32.694496\n",
       "23   51.019152  105.925694      59.544646\n",
       "24   63.002025  100.464377      43.189809\n",
       "25   55.508935   85.668315      35.205647\n",
       "26   55.957462   92.908349      42.037929\n",
       "27   45.584372   91.253715      49.813377\n",
       "28   52.267716   94.285421      46.769316\n",
       "29   67.149436   91.641724      30.596782\n",
       "..         ...         ...            ...\n",
       "77   54.527445  107.174704      57.604299\n",
       "78   57.921399   95.936384      43.280567\n",
       "79   55.380780  105.499443      55.153279\n",
       "80   48.748381   98.106088      53.789378\n",
       "81   47.575683   99.466314      56.215693\n",
       "82   60.281845   93.196888      38.395211\n",
       "83   60.055757   96.450016      41.853873\n",
       "84   52.917969  100.051388      51.944144\n",
       "85   63.606750   89.253072      31.428754\n",
       "86   53.184455   87.959646      39.610141\n",
       "87   58.651302   97.283777      43.964412\n",
       "88   69.571927   83.868538      20.621331\n",
       "89   64.414538  102.297928      43.739256\n",
       "90   68.451004   99.575240      37.347054\n",
       "91   52.626741  100.136913      52.294421\n",
       "92   59.249977   86.473408      32.609792\n",
       "93   44.565970   96.230067      55.715548\n",
       "94   59.463349   97.171879      43.114289\n",
       "95   65.531826   86.934795      27.360408\n",
       "96   49.086654   96.141401      51.517169\n",
       "97   55.862291   95.265148      44.481247\n",
       "98   63.163990   79.578180      22.156371\n",
       "99   64.990979   95.890456      36.807747\n",
       "100  50.707021   93.260046      47.162753\n",
       "101  57.974569  109.448224      56.744071\n",
       "102  72.017343   85.486393      20.016081\n",
       "103  51.963138  106.309582      59.070366\n",
       "104  52.503394   82.793571      35.063213\n",
       "105  48.847130  103.357824      58.951342\n",
       "106  61.250419   99.870843      44.188644\n",
       "\n",
       "[107 rows x 3 columns]"
      ]
     },
     "execution_count": 19,
     "metadata": {},
     "output_type": "execute_result"
    }
   ],
   "source": [
    "df_data"
   ]
  }
 ],
 "metadata": {
  "kernelspec": {
   "display_name": "Python 3",
   "language": "python",
   "name": "python3"
  },
  "language_info": {
   "codemirror_mode": {
    "name": "ipython",
    "version": 3
   },
   "file_extension": ".py",
   "mimetype": "text/x-python",
   "name": "python",
   "nbconvert_exporter": "python",
   "pygments_lexer": "ipython3",
   "version": "3.8.5"
  }
 },
 "nbformat": 4,
 "nbformat_minor": 2
}
