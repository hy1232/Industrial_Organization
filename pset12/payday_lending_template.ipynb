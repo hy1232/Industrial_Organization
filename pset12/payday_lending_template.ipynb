{
 "cells": [
  {
   "cell_type": "markdown",
   "metadata": {},
   "source": [
    "Shawn (HyungJoon) Yoon\n",
    "\n",
    "I worked with Annie Jung and Asli Mumtaz."
   ]
  },
  {
   "cell_type": "markdown",
   "metadata": {},
   "source": [
    "Question 0\n",
    "0A: I followed the honor code on this problem set. (Answer Yes or No.)\n",
    "\n",
    "Yes.\n"
   ]
  },
  {
   "cell_type": "markdown",
   "metadata": {},
   "source": [
    "0B: How much time did you spend on this problem set?\n",
    "\n",
    "8hrs"
   ]
  },
  {
   "cell_type": "code",
   "execution_count": 1,
   "metadata": {},
   "outputs": [],
   "source": [
    "import linearmodels as lm\n",
    "import pandas as pd\n",
    "import seaborn as sns\n",
    "import re \n",
    "%matplotlib inline"
   ]
  },
  {
   "cell_type": "markdown",
   "metadata": {},
   "source": [
    "This notebook uses a number of important tools and techniques:\n",
    " 1. [**Defining functions**](https://stackoverflow.com/questions/32409802/basic-explanation-of-python-functions) to encapsulate and reuse pieces of code that are used repeatedly.\n",
    " 1. The regular expression module [**re**](https://docs.python.org/3/library/re.html); it's incredibly helpful to work with text patterns.\n",
    " 1. The use of [**MultiIndices**](https://pandas.pydata.org/pandas-docs/stable/user_guide/advanced.html) to describe data collecting observations at the  *(state, year)* level.\n",
    " 1. The use of fixed effects to implement a [**diff in diff**](https://en.wikipedia.org/wiki/Difference_in_differences) estimator as an OLS.    \n",
    " Here we are dealing with what's called panel data: the observations correspond to a stable set of *entities* (here US state) being observed repeatedly over time.\n",
    " \n",
    "Much of the data prep code is completed for you, but you should carefully look through the code to understand what each line is doing to convert the raw data into a dataset we can use for the analysis."
   ]
  },
  {
   "cell_type": "code",
   "execution_count": 2,
   "metadata": {},
   "outputs": [
    {
     "data": {
      "text/html": [
       "<div>\n",
       "<style scoped>\n",
       "    .dataframe tbody tr th:only-of-type {\n",
       "        vertical-align: middle;\n",
       "    }\n",
       "\n",
       "    .dataframe tbody tr th {\n",
       "        vertical-align: top;\n",
       "    }\n",
       "\n",
       "    .dataframe thead th {\n",
       "        text-align: right;\n",
       "    }\n",
       "</style>\n",
       "<table border=\"1\" class=\"dataframe\">\n",
       "  <thead>\n",
       "    <tr style=\"text-align: right;\">\n",
       "      <th></th>\n",
       "      <th></th>\n",
       "      <th>Bankruptcies</th>\n",
       "    </tr>\n",
       "    <tr>\n",
       "      <th>Year</th>\n",
       "      <th>State</th>\n",
       "      <th></th>\n",
       "    </tr>\n",
       "  </thead>\n",
       "  <tbody>\n",
       "    <tr>\n",
       "      <th rowspan=\"5\" valign=\"top\">2006</th>\n",
       "      <th>Alabama</th>\n",
       "      <td>19546</td>\n",
       "    </tr>\n",
       "    <tr>\n",
       "      <th>Alaska</th>\n",
       "      <td>579</td>\n",
       "    </tr>\n",
       "    <tr>\n",
       "      <th>Arizona</th>\n",
       "      <td>7536</td>\n",
       "    </tr>\n",
       "    <tr>\n",
       "      <th>Arkansas</th>\n",
       "      <td>9290</td>\n",
       "    </tr>\n",
       "    <tr>\n",
       "      <th>California</th>\n",
       "      <td>37171</td>\n",
       "    </tr>\n",
       "  </tbody>\n",
       "</table>\n",
       "</div>"
      ],
      "text/plain": [
       "                 Bankruptcies\n",
       "Year State                   \n",
       "2006 Alabama            19546\n",
       "     Alaska               579\n",
       "     Arizona             7536\n",
       "     Arkansas            9290\n",
       "     California         37171"
      ]
     },
     "execution_count": 2,
     "metadata": {},
     "output_type": "execute_result"
    }
   ],
   "source": [
    "########Question 1: Data Prep########\n",
    "\n",
    "########## 1A\n",
    "## Import and reshape bankruptcies\n",
    "\n",
    "# Import the data\n",
    "Bankruptcies = pd.read_csv('Bankruptcies.csv', index_col=0) # insert file name\n",
    "\n",
    "#simplify column names\n",
    "def simplify_name(s):\n",
    "    p = re.compile('Personal Bankruptcies (.*)  - Bankruptcies\\n  - #')\n",
    "    result = p.search(s)\n",
    "    return result.group(1)\n",
    "\n",
    "new_names = [simplify_name(name) for name in Bankruptcies.columns]\n",
    "Bankruptcies.columns = new_names\n",
    "\n",
    "\n",
    "# reshape dataframe using a year x state index\n",
    "def reshape_dataframe(df, col_name=''):\n",
    "    df = df.stack()\n",
    "    df.index.names = ['Year', 'State']\n",
    "    df.index\n",
    "    return df.sort_index().to_frame(col_name)\n",
    "        \n",
    "Bankruptcies = reshape_dataframe(Bankruptcies, 'Bankruptcies')\n",
    "Bankruptcies.head()"
   ]
  },
  {
   "cell_type": "code",
   "execution_count": 3,
   "metadata": {},
   "outputs": [
    {
     "data": {
      "text/html": [
       "<div>\n",
       "<style scoped>\n",
       "    .dataframe tbody tr th:only-of-type {\n",
       "        vertical-align: middle;\n",
       "    }\n",
       "\n",
       "    .dataframe tbody tr th {\n",
       "        vertical-align: top;\n",
       "    }\n",
       "\n",
       "    .dataframe thead th {\n",
       "        text-align: right;\n",
       "    }\n",
       "</style>\n",
       "<table border=\"1\" class=\"dataframe\">\n",
       "  <thead>\n",
       "    <tr style=\"text-align: right;\">\n",
       "      <th></th>\n",
       "      <th></th>\n",
       "      <th>Income</th>\n",
       "    </tr>\n",
       "    <tr>\n",
       "      <th>Year</th>\n",
       "      <th>State</th>\n",
       "      <th></th>\n",
       "    </tr>\n",
       "  </thead>\n",
       "  <tbody>\n",
       "    <tr>\n",
       "      <th rowspan=\"5\" valign=\"top\">2006</th>\n",
       "      <th>Alabama</th>\n",
       "      <td>31306</td>\n",
       "    </tr>\n",
       "    <tr>\n",
       "      <th>Alaska</th>\n",
       "      <td>40881</td>\n",
       "    </tr>\n",
       "    <tr>\n",
       "      <th>Arizona</th>\n",
       "      <td>34667</td>\n",
       "    </tr>\n",
       "    <tr>\n",
       "      <th>Arkansas</th>\n",
       "      <td>29422</td>\n",
       "    </tr>\n",
       "    <tr>\n",
       "      <th>California</th>\n",
       "      <td>42139</td>\n",
       "    </tr>\n",
       "  </tbody>\n",
       "</table>\n",
       "</div>"
      ],
      "text/plain": [
       "                 Income\n",
       "Year State             \n",
       "2006 Alabama      31306\n",
       "     Alaska       40881\n",
       "     Arizona      34667\n",
       "     Arkansas     29422\n",
       "     California   42139"
      ]
     },
     "execution_count": 3,
     "metadata": {},
     "output_type": "execute_result"
    }
   ],
   "source": [
    "########## 1B\n",
    "##Import and reshape income\n",
    "#Import the data\n",
    "Income = pd.read_csv('Income.csv') # fill in\n",
    "Income['GeoName'] = Income['GeoName'].apply(lambda x: x.rstrip(' ').rstrip(' *'))\n",
    "\n",
    "Income = Income.set_index('GeoName')\n",
    "\n",
    "# in our context, when the year corresponds to a column, it's stored as a string\n",
    "# print(Income.columns)\n",
    "# # Index(['2006', '2007', '2008', '2009', '2010', '2011', '2012'], dtype='object')\n",
    "\n",
    "# the function below makes sure the year is treated as a number when we transpose\n",
    "\n",
    "\n",
    "def transpose_dataframe(df):\n",
    "    \n",
    "    df.columns = df.columns.astype(int) \n",
    "    return df.T\n",
    "\n",
    "Income = reshape_dataframe(transpose_dataframe(Income), 'Income')\n",
    "\n",
    "# The Year index is indeed treated as an Integer\n",
    "# print(Income.index.levels[0])\n",
    "# # Int64Index([2006, 2007, 2008, 2009, 2010, 2011, 2012], dtype='int64', name='Year')\n",
    "\n",
    "Income.head()"
   ]
  },
  {
   "cell_type": "code",
   "execution_count": 4,
   "metadata": {},
   "outputs": [
    {
     "data": {
      "text/html": [
       "<div>\n",
       "<style scoped>\n",
       "    .dataframe tbody tr th:only-of-type {\n",
       "        vertical-align: middle;\n",
       "    }\n",
       "\n",
       "    .dataframe tbody tr th {\n",
       "        vertical-align: top;\n",
       "    }\n",
       "\n",
       "    .dataframe thead th {\n",
       "        text-align: right;\n",
       "    }\n",
       "</style>\n",
       "<table border=\"1\" class=\"dataframe\">\n",
       "  <thead>\n",
       "    <tr style=\"text-align: right;\">\n",
       "      <th></th>\n",
       "      <th></th>\n",
       "      <th>Law_Restrictions</th>\n",
       "    </tr>\n",
       "    <tr>\n",
       "      <th>Year</th>\n",
       "      <th>State</th>\n",
       "      <th></th>\n",
       "    </tr>\n",
       "  </thead>\n",
       "  <tbody>\n",
       "    <tr>\n",
       "      <th rowspan=\"5\" valign=\"top\">2006</th>\n",
       "      <th>Alabama</th>\n",
       "      <td>0</td>\n",
       "    </tr>\n",
       "    <tr>\n",
       "      <th>Alaska</th>\n",
       "      <td>0</td>\n",
       "    </tr>\n",
       "    <tr>\n",
       "      <th>Arizona</th>\n",
       "      <td>0</td>\n",
       "    </tr>\n",
       "    <tr>\n",
       "      <th>Arkansas</th>\n",
       "      <td>0</td>\n",
       "    </tr>\n",
       "    <tr>\n",
       "      <th>California</th>\n",
       "      <td>0</td>\n",
       "    </tr>\n",
       "  </tbody>\n",
       "</table>\n",
       "</div>"
      ],
      "text/plain": [
       "                 Law_Restrictions\n",
       "Year State                       \n",
       "2006 Alabama                    0\n",
       "     Alaska                     0\n",
       "     Arizona                    0\n",
       "     Arkansas                   0\n",
       "     California                 0"
      ]
     },
     "execution_count": 4,
     "metadata": {},
     "output_type": "execute_result"
    }
   ],
   "source": [
    "########## 1C\n",
    "##Import and reshape Law_Restrictions\n",
    "#Import data\n",
    "\n",
    "Law_Restrictions = pd.read_csv('Bhutta_Law_Restrictions.csv', index_col=0) # fill in name\n",
    "Law_Restrictions = reshape_dataframe(transpose_dataframe(Law_Restrictions), 'Law_Restrictions')# reshape dataframe like we did for Income\n",
    "Law_Restrictions.head()"
   ]
  },
  {
   "cell_type": "code",
   "execution_count": 5,
   "metadata": {},
   "outputs": [
    {
     "data": {
      "text/html": [
       "<div>\n",
       "<style scoped>\n",
       "    .dataframe tbody tr th:only-of-type {\n",
       "        vertical-align: middle;\n",
       "    }\n",
       "\n",
       "    .dataframe tbody tr th {\n",
       "        vertical-align: top;\n",
       "    }\n",
       "\n",
       "    .dataframe thead th {\n",
       "        text-align: right;\n",
       "    }\n",
       "</style>\n",
       "<table border=\"1\" class=\"dataframe\">\n",
       "  <thead>\n",
       "    <tr style=\"text-align: right;\">\n",
       "      <th></th>\n",
       "      <th></th>\n",
       "      <th>Bankruptcies</th>\n",
       "      <th>Income</th>\n",
       "      <th>Law_Restrictions</th>\n",
       "    </tr>\n",
       "    <tr>\n",
       "      <th>Year</th>\n",
       "      <th>State</th>\n",
       "      <th></th>\n",
       "      <th></th>\n",
       "      <th></th>\n",
       "    </tr>\n",
       "  </thead>\n",
       "  <tbody>\n",
       "    <tr>\n",
       "      <th rowspan=\"5\" valign=\"top\">2006</th>\n",
       "      <th>Alabama</th>\n",
       "      <td>19546.0</td>\n",
       "      <td>31306.0</td>\n",
       "      <td>0.0</td>\n",
       "    </tr>\n",
       "    <tr>\n",
       "      <th>Alaska</th>\n",
       "      <td>579.0</td>\n",
       "      <td>40881.0</td>\n",
       "      <td>0.0</td>\n",
       "    </tr>\n",
       "    <tr>\n",
       "      <th>Arizona</th>\n",
       "      <td>7536.0</td>\n",
       "      <td>34667.0</td>\n",
       "      <td>0.0</td>\n",
       "    </tr>\n",
       "    <tr>\n",
       "      <th>Arkansas</th>\n",
       "      <td>9290.0</td>\n",
       "      <td>29422.0</td>\n",
       "      <td>0.0</td>\n",
       "    </tr>\n",
       "    <tr>\n",
       "      <th>California</th>\n",
       "      <td>37171.0</td>\n",
       "      <td>42139.0</td>\n",
       "      <td>0.0</td>\n",
       "    </tr>\n",
       "  </tbody>\n",
       "</table>\n",
       "</div>"
      ],
      "text/plain": [
       "                 Bankruptcies   Income  Law_Restrictions\n",
       "Year State                                              \n",
       "2006 Alabama          19546.0  31306.0               0.0\n",
       "     Alaska             579.0  40881.0               0.0\n",
       "     Arizona           7536.0  34667.0               0.0\n",
       "     Arkansas          9290.0  29422.0               0.0\n",
       "     California       37171.0  42139.0               0.0"
      ]
     },
     "execution_count": 5,
     "metadata": {},
     "output_type": "execute_result"
    }
   ],
   "source": [
    "########## 1D\n",
    "##Merge data\n",
    "#Merge Bankruptcies with income to create DiD data\n",
    "data = pd.concat([Bankruptcies, Income, Law_Restrictions], axis=1, sort=False) # fill in for ..., see defintion and examples of pandas.concat if having trouble\n",
    "data = data.dropna()\n",
    "data.head()"
   ]
  },
  {
   "cell_type": "code",
   "execution_count": 6,
   "metadata": {},
   "outputs": [
    {
     "name": "stdout",
     "output_type": "stream",
     "text": [
      "      Bankruptcies        Income\n",
      "Year                            \n",
      "2006  12358.479167  37034.375000\n",
      "2007  16868.312500  38836.625000\n",
      "2008  22059.645833  40181.000000\n",
      "2009  29034.208333  38792.750000\n",
      "2010  31602.062500  40020.062500\n",
      "2011  26392.854167  42234.416667\n",
      "2012  24274.270833  44039.958333\n",
      "\n",
      "        Bankruptcies        Income  Law_Restrictions\n",
      "count      48.000000     48.000000         48.000000\n",
      "mean    26392.854167  42234.416667          0.354167\n",
      "std     33561.234734   6718.127047          0.483321\n",
      "min       942.000000  32190.000000          0.000000\n",
      "25%      4817.500000  37724.750000          0.000000\n",
      "50%     17461.500000  41185.000000          0.000000\n",
      "75%     34529.500000  45203.000000          1.000000\n",
      "max    207117.000000  63769.000000          1.000000\n"
     ]
    },
    {
     "data": {
      "image/png": "[encoded data removed]",
      "text/plain": [
       "<Figure size 1008x432 with 1 Axes>"
      ]
     },
     "metadata": {
      "needs_background": "light"
     },
     "output_type": "display_data"
    }
   ],
   "source": [
    "########## 1E\n",
    "##Report summary statistics\n",
    "#For Bankruptcies\n",
    "trends_bkrpt_inc = data.groupby(level=0)[['Bankruptcies', 'Income']].mean()\n",
    "print(trends_bkrpt_inc)\n",
    "trends_bkrpt_inc.plot(figsize=(14,6))\n",
    "print()\n",
    "# add summary stats for 2011\n",
    "print(data.loc[2011].describe())"
   ]
  },
  {
   "cell_type": "code",
   "execution_count": 7,
   "metadata": {},
   "outputs": [
    {
     "name": "stdout",
     "output_type": "stream",
     "text": [
      "      Law_Restrictions\n",
      "Year                  \n",
      "2006          0.229167\n",
      "2007          0.229167\n",
      "2008          0.250000\n",
      "2009          0.291667\n",
      "2010          0.312500\n",
      "2011          0.354167\n",
      "2012          0.354167\n"
     ]
    },
    {
     "data": {
      "text/plain": [
       "<matplotlib.axes._subplots.AxesSubplot at 0x1f9b2e65b38>"
      ]
     },
     "execution_count": 7,
     "metadata": {},
     "output_type": "execute_result"
    },
    {
     "data": {
      "image/png": "[encoded data removed]",
      "text/plain": [
       "<Figure size 1008x432 with 1 Axes>"
      ]
     },
     "metadata": {
      "needs_background": "light"
     },
     "output_type": "display_data"
    }
   ],
   "source": [
    "########Question 2: Analysis########\n",
    "\n",
    "########## 2A\n",
    "#Report how many states have laws restricting payday lending for each of the \n",
    "#years using a bar graph\n",
    "#Use aggregate function to aggregate Law Restrictions by year\n",
    "\n",
    "trends_restrict = data.groupby(level=0)[['Law_Restrictions']].mean() # fill in the function needed to get desired aggregation, see 1E if stuck\n",
    "print(trends_restrict)\n",
    "trends_restrict.plot(figsize=(14,6))"
   ]
  },
  {
   "cell_type": "markdown",
   "metadata": {},
   "source": [
    "If we assume that there are 50 states in the data, then these are the number of states that has law restrictions for each year. "
   ]
  },
  {
   "cell_type": "code",
   "execution_count": 8,
   "metadata": {},
   "outputs": [
    {
     "data": {
      "text/html": [
       "<div>\n",
       "<style scoped>\n",
       "    .dataframe tbody tr th:only-of-type {\n",
       "        vertical-align: middle;\n",
       "    }\n",
       "\n",
       "    .dataframe tbody tr th {\n",
       "        vertical-align: top;\n",
       "    }\n",
       "\n",
       "    .dataframe thead th {\n",
       "        text-align: right;\n",
       "    }\n",
       "</style>\n",
       "<table border=\"1\" class=\"dataframe\">\n",
       "  <thead>\n",
       "    <tr style=\"text-align: right;\">\n",
       "      <th></th>\n",
       "      <th>Law_Restrictions</th>\n",
       "    </tr>\n",
       "    <tr>\n",
       "      <th>Year</th>\n",
       "      <th></th>\n",
       "    </tr>\n",
       "  </thead>\n",
       "  <tbody>\n",
       "    <tr>\n",
       "      <th>2006</th>\n",
       "      <td>11.458333</td>\n",
       "    </tr>\n",
       "    <tr>\n",
       "      <th>2007</th>\n",
       "      <td>11.458333</td>\n",
       "    </tr>\n",
       "    <tr>\n",
       "      <th>2008</th>\n",
       "      <td>12.500000</td>\n",
       "    </tr>\n",
       "    <tr>\n",
       "      <th>2009</th>\n",
       "      <td>14.583333</td>\n",
       "    </tr>\n",
       "    <tr>\n",
       "      <th>2010</th>\n",
       "      <td>15.625000</td>\n",
       "    </tr>\n",
       "    <tr>\n",
       "      <th>2011</th>\n",
       "      <td>17.708333</td>\n",
       "    </tr>\n",
       "    <tr>\n",
       "      <th>2012</th>\n",
       "      <td>17.708333</td>\n",
       "    </tr>\n",
       "  </tbody>\n",
       "</table>\n",
       "</div>"
      ],
      "text/plain": [
       "      Law_Restrictions\n",
       "Year                  \n",
       "2006         11.458333\n",
       "2007         11.458333\n",
       "2008         12.500000\n",
       "2009         14.583333\n",
       "2010         15.625000\n",
       "2011         17.708333\n",
       "2012         17.708333"
      ]
     },
     "execution_count": 8,
     "metadata": {},
     "output_type": "execute_result"
    }
   ],
   "source": [
    "trends_restrict*50"
   ]
  },
  {
   "cell_type": "code",
   "execution_count": 9,
   "metadata": {},
   "outputs": [
    {
     "data": {
      "text/plain": [
       "<matplotlib.axes._subplots.AxesSubplot at 0x1f9b2ea0cc0>"
      ]
     },
     "execution_count": 9,
     "metadata": {},
     "output_type": "execute_result"
    },
    {
     "data": {
      "image/png": "[encoded data removed]",
      "text/plain": [
       "<Figure size 432x288 with 1 Axes>"
      ]
     },
     "metadata": {
      "needs_background": "light"
     },
     "output_type": "display_data"
    }
   ],
   "source": [
    "########## 2B\n",
    "####Plot the relationship using a scatterplot between bankruptcy rates and payday\n",
    "###lending restrictions for the latest year for which we have data.\n",
    "\n",
    "sns.regplot(y=\"Bankruptcies\", x=\"Law_Restrictions\", data=data.loc[2012, :]) # fill in variables where there are currently ..."
   ]
  },
  {
   "cell_type": "code",
   "execution_count": 10,
   "metadata": {},
   "outputs": [
    {
     "name": "stdout",
     "output_type": "stream",
     "text": [
      "                            OLS Estimation Summary                            \n",
      "==============================================================================\n",
      "Dep. Variable:           Bankruptcies   R-squared:                      0.0174\n",
      "Estimator:                        OLS   Adj. R-squared:                -0.0040\n",
      "No. Observations:                  48   F-statistic:                    1.2518\n",
      "Date:                Thu, Dec 12 2019   P-value (F-stat)                0.2632\n",
      "Time:                        05:38:58   Distribution:                  chi2(1)\n",
      "Cov. Estimator:                robust                                         \n",
      "                                                                              \n",
      "                                Parameter Estimates                                 \n",
      "====================================================================================\n",
      "                  Parameter  Std. Err.     T-stat    P-value    Lower CI    Upper CI\n",
      "------------------------------------------------------------------------------------\n",
      "Intercept         2.716e+04     6208.5     4.3753     0.0000     1.5e+04   3.933e+04\n",
      "Law_Restrictions    -8158.2     7291.8    -1.1188     0.2632  -2.245e+04      6133.4\n",
      "====================================================================================\n"
     ]
    }
   ],
   "source": [
    "########## 2C \n",
    "#Estimate the regression coefficient for the relationship plotted in C\n",
    "model = lm.OLS.from_formula(\"Bankruptcies ~ 1 + Law_Restrictions\", data=data.loc[2012, :])\n",
    "res = model.fit()\n",
    "print(res.summary)"
   ]
  },
  {
   "cell_type": "markdown",
   "metadata": {},
   "source": [
    "The regression coefficient is -8158.2"
   ]
  },
  {
   "cell_type": "markdown",
   "metadata": {
    "collapsed": true
   },
   "source": [
    "#### 2D\n",
    "\n",
    "Would you interpret that correlation as evidence that payday lending laws cause bankruptcies to\n",
    "increase or decrease? Why or why not? (Hint: Are you concerned about omitted variable bias? What\n",
    "omitted variables might be relevant?)\n",
    "\n",
    "\n",
    "It would be a bold statement to say that law restrictions decrease bankruptcies, because there are too many unidentified variables at this point. So, we can't conclude anything from this. \n",
    "\n",
    "For example, the states that had law restrictions might have lower bankruptcies rate from the start, and the law restriction may have no effects on bankruptcies rate. "
   ]
  },
  {
   "cell_type": "code",
   "execution_count": 43,
   "metadata": {},
   "outputs": [
    {
     "name": "stdout",
     "output_type": "stream",
     "text": [
      "              Bankruptcies   Income  Law_Restrictions\n",
      "State   Year                                         \n",
      "Alabama 2006       19546.0  31306.0               0.0\n",
      "        2007       23572.0  32573.0               0.0\n",
      "        2008       29018.0  33377.0               0.0\n",
      "        2009       34180.0  32631.0               0.0\n",
      "        2010       33403.0  33844.0               0.0 \n",
      "\n",
      "\n",
      "                          PanelOLS Estimation Summary                           \n",
      "================================================================================\n",
      "Dep. Variable:           Bankruptcies   R-squared:                        0.0015\n",
      "Estimator:                   PanelOLS   R-squared (Between):             -0.0269\n",
      "No. Observations:                 336   R-squared (Within):              -0.0064\n",
      "Date:                Wed, Dec 11 2019   R-squared (Overall):             -0.0245\n",
      "Time:                        13:36:22   Log-likelihood                   -3604.6\n",
      "Cov. Estimator:            Unadjusted                                           \n",
      "                                        F-statistic:                      0.4243\n",
      "Entities:                          53   P-value                           0.5153\n",
      "Avg Obs:                       6.3396   Distribution:                   F(1,281)\n",
      "Min Obs:                       0.0000                                           \n",
      "Max Obs:                       7.0000   F-statistic (robust):             0.4243\n",
      "                                        P-value                           0.5153\n",
      "Time periods:                       7   Distribution:                   F(1,281)\n",
      "Avg Obs:                       48.000                                           \n",
      "Min Obs:                       48.000                                           \n",
      "Max Obs:                       48.000                                           \n",
      "                                                                                \n",
      "                                Parameter Estimates                                 \n",
      "====================================================================================\n",
      "                  Parameter  Std. Err.     T-stat    P-value    Lower CI    Upper CI\n",
      "------------------------------------------------------------------------------------\n",
      "Law_Restrictions    -2684.6     4121.3    -0.6514     0.5153   -1.08e+04      5427.9\n",
      "====================================================================================\n",
      "\n",
      "F-test for Poolability: 31.457\n",
      "P-value: 0.0000\n",
      "Distribution: F(53,281)\n",
      "\n",
      "Included effects: Entity, Time\n"
     ]
    }
   ],
   "source": [
    "########## 2E\n",
    "#Perform a diff-in-diff analysis without the income control and report the estimates\n",
    "\n",
    "# the typical panel data convention is to have the entity correspond to the first index, \n",
    "# and the time correspond to the second index\n",
    "# the *linearmodel* package needs us to follow that convention\n",
    "\n",
    "if data.index.names[0] == 'Year':\n",
    "    data = data.swaplevel(i=0, j=1)\n",
    "    data = data.sort_index()\n",
    "    \n",
    "print(data.head(), '\\n\\n')\n",
    "\n",
    "\n",
    "reg_formula = 'Bankruptcies ~ 0 + EntityEffects + TimeEffects + Law_Restrictions' # what's missing?\n",
    "\n",
    "model = lm.PanelOLS.from_formula(reg_formula, data=data)\n",
    "res = model.fit()\n",
    "print(res.summary)\n"
   ]
  },
  {
   "cell_type": "code",
   "execution_count": 44,
   "metadata": {},
   "outputs": [
    {
     "name": "stdout",
     "output_type": "stream",
     "text": [
      "                          PanelOLS Estimation Summary                           \n",
      "================================================================================\n",
      "Dep. Variable:           Bankruptcies   R-squared:                        0.0501\n",
      "Estimator:                   PanelOLS   R-squared (Between):             -9.0779\n",
      "No. Observations:                 336   R-squared (Within):              -0.2672\n",
      "Date:                Wed, Dec 11 2019   R-squared (Overall):             -8.0534\n",
      "Time:                        13:37:05   Log-likelihood                   -3596.2\n",
      "Cov. Estimator:            Unadjusted                                           \n",
      "                                        F-statistic:                      7.3798\n",
      "Entities:                          53   P-value                           0.0008\n",
      "Avg Obs:                       6.3396   Distribution:                   F(2,280)\n",
      "Min Obs:                       0.0000                                           \n",
      "Max Obs:                       7.0000   F-statistic (robust):             7.3798\n",
      "                                        P-value                           0.0008\n",
      "Time periods:                       7   Distribution:                   F(2,280)\n",
      "Avg Obs:                       48.000                                           \n",
      "Min Obs:                       48.000                                           \n",
      "Max Obs:                       48.000                                           \n",
      "                                                                                \n",
      "                                Parameter Estimates                                 \n",
      "====================================================================================\n",
      "                  Parameter  Std. Err.     T-stat    P-value    Lower CI    Upper CI\n",
      "------------------------------------------------------------------------------------\n",
      "Income              -2.0648     0.5457    -3.7835     0.0002     -3.1391     -0.9906\n",
      "Law_Restrictions    -4018.8     4042.4    -0.9942     0.3210  -1.198e+04      3938.5\n",
      "====================================================================================\n",
      "\n",
      "F-test for Poolability: 33.211\n",
      "P-value: 0.0000\n",
      "Distribution: F(53,280)\n",
      "\n",
      "Included effects: Entity, Time\n"
     ]
    }
   ],
   "source": [
    "########## 2F\n",
    "#Now add the control variable. How do the results change?\n",
    "\n",
    "reg_formula_income = 'Bankruptcies ~ 0 + EntityEffects + TimeEffects + Income + Law_Restrictions'\n",
    "\n",
    "model = lm.PanelOLS.from_formula(reg_formula_income, data=data)\n",
    "res = model.fit()\n",
    "print(res.summary)"
   ]
  },
  {
   "cell_type": "markdown",
   "metadata": {},
   "source": [
    "Yes. The coefficient for law_restirctions change by around 1334. This is due to the omitted variable biasness.\n",
    "\n",
    "The reason is that we identified the income variable. Before we identified the income variable, the law restriction coefficient was holding the income coefficient times the coefficient of income on law restriction.  "
   ]
  },
  {
   "cell_type": "markdown",
   "metadata": {},
   "source": [
    "### 2G) Using your results from the regression in 2F, interpret the magnitude and statistical significance of the relationship between income and bankruptcies, as well as the relationship between payday lending restrictions and bankruptcies.\n",
    "\n",
    "The coefficient for the income variable is -2.0648. This means that when income increases by 1, then the bankruptcies drop by 2.0648. The p-value of the income coefficient is 0.0002 which is less than 0.05. It rejects the null hypothesis that the coefficient is zero. So, income coefficient is statistically significant. \n",
    "\n",
    "The coefficient for the law restrictions dummy variable is -4018.8. This means that when there is a law restriction, then the bankruptcies drop by 4018.8. The p-value of the law restrictions coefficient is 0.3210 which is bigger than 0.05. So, this tells that the law restriction coefficient is not statistically significant. It doesn't reject the null hypothesis, but we can leniently rely on the number we got for the law restriction coefficient. "
   ]
  },
  {
   "cell_type": "markdown",
   "metadata": {},
   "source": [
    "### 2H) Would you still be concerned with omitted variables bias now?\n",
    "\n",
    "Yes. There could be more variables in the unobservables that has high correlation with law restrictions \n",
    "\n",
    "One example would be unemployment rate. Unemployment rate does not have direct relationship with law restriction, but it is indirectly related, and therefore it might have high correlation between the two. "
   ]
  },
  {
   "cell_type": "markdown",
   "metadata": {},
   "source": [
    "### 2I) As we covered in class, the CFPB finalized a payday lending regulation in October 2017 (link to press release). Define a nudge. Give a few bullet points explaining the key parts of the rule, and clarify the rationale behind the regulatory strategy used, incorporating both your empirical results from this problem set and our class discussion."
   ]
  },
  {
   "cell_type": "markdown",
   "metadata": {},
   "source": [
    "Is this data on bankruptcies the number of bankruptcies or the amount of money people default on?\n",
    "\n",
    "The nudge is something that helps consumers make right and better decisions without hurting or changing other customer's choice and quantity. \n",
    "\n",
    "The regulation does not block payday loans because people who are in need of the loans will still have access to them. However, they try to discourage people from taking the payday loans without fully understanding the consequences and the interest rate that they have to pay back by cracking down business models and practices. Therefore, they are basically helping consumers, who are already vulnerable, from running into traps that organizations have set up."
   ]
  }
 ],
 "metadata": {
  "kernelspec": {
   "display_name": "Python 3",
   "language": "python",
   "name": "python3"
  },
  "language_info": {
   "codemirror_mode": {
    "name": "ipython",
    "version": 3
   },
   "file_extension": ".py",
   "mimetype": "text/x-python",
   "name": "python",
   "nbconvert_exporter": "python",
   "pygments_lexer": "ipython3",
   "version": "3.8.5"
  }
 },
 "nbformat": 4,
 "nbformat_minor": 2
}
